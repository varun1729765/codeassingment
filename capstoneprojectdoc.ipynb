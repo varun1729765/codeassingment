{
 "cells": [
  {
   "cell_type": "markdown",
   "metadata": {},
   "source": [
    "CAPSTONE PROJECT\n",
    "\n",
    "The project, I intend to do is based on a hypothetical scenario where a coffee shop chain company want to start a coffee shop in the Central Toronto location. The data can also help other small coffee shop retailers. The main motivation is to aid any Coffee Shop chain or CCD chains, or any other retailer help set up shop in the Central Toronto region. The analysis can aid CCD chains or retailers in picking locations for the setup of their coffee shops. The main aim is to help a Coffee Shop retail chain help find locations for setting up shops in the Central Toronto region. \n"
   ]
  },
  {
   "cell_type": "markdown",
   "metadata": {},
   "source": [
    "OBJECTIVE \n",
    "\n",
    "The objective of the project is to analyse the locations in Central Toronto and recommend good locations to open Coffee Shop for a CCD and Coffee Shop chain retailer. The project aims to use location data and data manipulation and other statistical techniques such as clustering to recommend best locations for a coffee shop. The main problem is which are set of best locations to open a CCD in Central Toronto \n"
   ]
  },
  {
   "cell_type": "markdown",
   "metadata": {},
   "source": [
    "TARGET AUDIENCE\n",
    "\n",
    "The target audiences are CCD coffee shop chains and other small retailers who can leverage the data for opening coffee shops. The retail chains like Starbucks use location data to open their stores in locations without affecting the business of their other stores and for maximizing the profit in the new store or shop. \n"
   ]
  },
  {
   "cell_type": "markdown",
   "metadata": {},
   "source": [
    "DATA\n",
    "\n",
    "The data required are as follows.\n",
    "Toronto neighbourhood data and postal code data\n",
    "Toronto neighbourhood location data\n",
    "Data for top coffee house location. The data related to coffee shops in the neighbourhood \n",
    "The Toronto neighbourhood data will be scrapped from this site \n",
    "https://en.wikipedia.org/wiki/List_of_postal_codes_of_Canada:_M\n",
    "The neighbourhood location can be taken from the csv file or can be extracted using Geopy or Google API key. \n",
    "The FourSquare API will be used to fetch the criterion-based data of the neighbourhoods in the Central Toronto region. The FourSquare API based data will be taken where the top venues of about 100 in number will be grouped together. The data will be accessed through API calls to FourSquare. The criterion-based data will be filtered from that data for the coffee shops and the top venues can be categorized based on their frequency of the location. The data from the venues can be filtered for the coffee shops and then clustering can be done on them to identify the location cluster where the coffee shops can be opened\n"
   ]
  },
  {
   "cell_type": "code",
   "execution_count": null,
   "metadata": {},
   "outputs": [],
   "source": []
  }
 ],
 "metadata": {
  "kernelspec": {
   "display_name": "Python 3",
   "language": "python",
   "name": "python3"
  },
  "language_info": {
   "codemirror_mode": {
    "name": "ipython",
    "version": 3
   },
   "file_extension": ".py",
   "mimetype": "text/x-python",
   "name": "python",
   "nbconvert_exporter": "python",
   "pygments_lexer": "ipython3",
   "version": "3.6.8"
  }
 },
 "nbformat": 4,
 "nbformat_minor": 2
}
