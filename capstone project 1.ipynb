{
 "cells": [
  {
   "cell_type": "code",
   "execution_count": 137,
   "metadata": {},
   "outputs": [],
   "source": [
    "import requests\n",
    "from bs4 import BeautifulSoup\n",
    "import pandas as pd"
   ]
  },
  {
   "cell_type": "markdown",
   "metadata": {},
   "source": [
    "Data Scraping Code "
   ]
  },
  {
   "cell_type": "code",
   "execution_count": 138,
   "metadata": {},
   "outputs": [],
   "source": [
    "url='https://en.wikipedia.org/wiki/List_of_postal_codes_of_Canada:_M'"
   ]
  },
  {
   "cell_type": "code",
   "execution_count": 139,
   "metadata": {},
   "outputs": [],
   "source": [
    "html = requests.get(url).text"
   ]
  },
  {
   "cell_type": "code",
   "execution_count": 140,
   "metadata": {},
   "outputs": [],
   "source": [
    "soup = BeautifulSoup(html)"
   ]
  },
  {
   "cell_type": "code",
   "execution_count": 141,
   "metadata": {},
   "outputs": [],
   "source": [
    "table = soup.select('table')[0]\n",
    "tr_list = table.select('tr')\n",
    "rows = []\n",
    "for tr in tr_list:\n",
    "    td_list = tr.select('td')\n",
    "    tdl = []\n",
    "    for td in td_list:\n",
    "        tdl.append(td.text.strip())\n",
    "    if tdl:\n",
    "        rows.append(tdl)"
   ]
  },
  {
   "cell_type": "markdown",
   "metadata": {},
   "source": [
    "Code for extracting the table data"
   ]
  },
  {
   "cell_type": "code",
   "execution_count": 142,
   "metadata": {},
   "outputs": [
    {
     "data": {
      "text/plain": [
       "[['M1A', 'Not assigned', 'Not assigned'],\n",
       " ['M2A', 'Not assigned', 'Not assigned'],\n",
       " ['M3A', 'North York', 'Parkwoods'],\n",
       " ['M4A', 'North York', 'Victoria Village'],\n",
       " ['M5A', 'Downtown Toronto', 'Harbourfront'],\n",
       " ['M5A', 'Downtown Toronto', 'Regent Park'],\n",
       " ['M6A', 'North York', 'Lawrence Heights'],\n",
       " ['M6A', 'North York', 'Lawrence Manor'],\n",
       " ['M7A', \"Queen's Park\", 'Not assigned'],\n",
       " ['M8A', 'Not assigned', 'Not assigned'],\n",
       " ['M9A', 'Etobicoke', 'Islington Avenue'],\n",
       " ['M1B', 'Scarborough', 'Rouge'],\n",
       " ['M1B', 'Scarborough', 'Malvern'],\n",
       " ['M2B', 'Not assigned', 'Not assigned'],\n",
       " ['M3B', 'North York', 'Don Mills North'],\n",
       " ['M4B', 'East York', 'Woodbine Gardens'],\n",
       " ['M4B', 'East York', 'Parkview Hill'],\n",
       " ['M5B', 'Downtown Toronto', 'Ryerson'],\n",
       " ['M5B', 'Downtown Toronto', 'Garden District'],\n",
       " ['M6B', 'North York', 'Glencairn'],\n",
       " ['M7B', 'Not assigned', 'Not assigned'],\n",
       " ['M8B', 'Not assigned', 'Not assigned'],\n",
       " ['M9B', 'Etobicoke', 'Cloverdale'],\n",
       " ['M9B', 'Etobicoke', 'Islington'],\n",
       " ['M9B', 'Etobicoke', 'Martin Grove'],\n",
       " ['M9B', 'Etobicoke', 'Princess Gardens'],\n",
       " ['M9B', 'Etobicoke', 'West Deane Park'],\n",
       " ['M1C', 'Scarborough', 'Highland Creek'],\n",
       " ['M1C', 'Scarborough', 'Rouge Hill'],\n",
       " ['M1C', 'Scarborough', 'Port Union'],\n",
       " ['M2C', 'Not assigned', 'Not assigned'],\n",
       " ['M3C', 'North York', 'Flemingdon Park'],\n",
       " ['M3C', 'North York', 'Don Mills South'],\n",
       " ['M4C', 'East York', 'Woodbine Heights'],\n",
       " ['M5C', 'Downtown Toronto', 'St. James Town'],\n",
       " ['M6C', 'York', 'Humewood-Cedarvale'],\n",
       " ['M7C', 'Not assigned', 'Not assigned'],\n",
       " ['M8C', 'Not assigned', 'Not assigned'],\n",
       " ['M9C', 'Etobicoke', 'Bloordale Gardens'],\n",
       " ['M9C', 'Etobicoke', 'Eringate'],\n",
       " ['M9C', 'Etobicoke', 'Markland Wood'],\n",
       " ['M9C', 'Etobicoke', 'Old Burnhamthorpe'],\n",
       " ['M1E', 'Scarborough', 'Guildwood'],\n",
       " ['M1E', 'Scarborough', 'Morningside'],\n",
       " ['M1E', 'Scarborough', 'West Hill'],\n",
       " ['M2E', 'Not assigned', 'Not assigned'],\n",
       " ['M3E', 'Not assigned', 'Not assigned'],\n",
       " ['M4E', 'East Toronto', 'The Beaches'],\n",
       " ['M5E', 'Downtown Toronto', 'Berczy Park'],\n",
       " ['M6E', 'York', 'Caledonia-Fairbanks'],\n",
       " ['M7E', 'Not assigned', 'Not assigned'],\n",
       " ['M8E', 'Not assigned', 'Not assigned'],\n",
       " ['M9E', 'Not assigned', 'Not assigned'],\n",
       " ['M1G', 'Scarborough', 'Woburn'],\n",
       " ['M2G', 'Not assigned', 'Not assigned'],\n",
       " ['M3G', 'Not assigned', 'Not assigned'],\n",
       " ['M4G', 'East York', 'Leaside'],\n",
       " ['M5G', 'Downtown Toronto', 'Central Bay Street'],\n",
       " ['M6G', 'Downtown Toronto', 'Christie'],\n",
       " ['M7G', 'Not assigned', 'Not assigned'],\n",
       " ['M8G', 'Not assigned', 'Not assigned'],\n",
       " ['M9G', 'Not assigned', 'Not assigned'],\n",
       " ['M1H', 'Scarborough', 'Cedarbrae'],\n",
       " ['M2H', 'North York', 'Hillcrest Village'],\n",
       " ['M3H', 'North York', 'Bathurst Manor'],\n",
       " ['M3H', 'North York', 'Downsview North'],\n",
       " ['M3H', 'North York', 'Wilson Heights'],\n",
       " ['M4H', 'East York', 'Thorncliffe Park'],\n",
       " ['M5H', 'Downtown Toronto', 'Adelaide'],\n",
       " ['M5H', 'Downtown Toronto', 'King'],\n",
       " ['M5H', 'Downtown Toronto', 'Richmond'],\n",
       " ['M6H', 'West Toronto', 'Dovercourt Village'],\n",
       " ['M6H', 'West Toronto', 'Dufferin'],\n",
       " ['M7H', 'Not assigned', 'Not assigned'],\n",
       " ['M8H', 'Not assigned', 'Not assigned'],\n",
       " ['M9H', 'Not assigned', 'Not assigned'],\n",
       " ['M1J', 'Scarborough', 'Scarborough Village'],\n",
       " ['M2J', 'North York', 'Fairview'],\n",
       " ['M2J', 'North York', 'Henry Farm'],\n",
       " ['M2J', 'North York', 'Oriole'],\n",
       " ['M3J', 'North York', 'Northwood Park'],\n",
       " ['M3J', 'North York', 'York University'],\n",
       " ['M4J', 'East York', 'East Toronto'],\n",
       " ['M5J', 'Downtown Toronto', 'Harbourfront East'],\n",
       " ['M5J', 'Downtown Toronto', 'Toronto Islands'],\n",
       " ['M5J', 'Downtown Toronto', 'Union Station'],\n",
       " ['M6J', 'West Toronto', 'Little Portugal'],\n",
       " ['M6J', 'West Toronto', 'Trinity'],\n",
       " ['M7J', 'Not assigned', 'Not assigned'],\n",
       " ['M8J', 'Not assigned', 'Not assigned'],\n",
       " ['M9J', 'Not assigned', 'Not assigned'],\n",
       " ['M1K', 'Scarborough', 'East Birchmount Park'],\n",
       " ['M1K', 'Scarborough', 'Ionview'],\n",
       " ['M1K', 'Scarborough', 'Kennedy Park'],\n",
       " ['M2K', 'North York', 'Bayview Village'],\n",
       " ['M3K', 'North York', 'CFB Toronto'],\n",
       " ['M3K', 'North York', 'Downsview East'],\n",
       " ['M4K', 'East Toronto', 'The Danforth West'],\n",
       " ['M4K', 'East Toronto', 'Riverdale'],\n",
       " ['M5K', 'Downtown Toronto', 'Design Exchange'],\n",
       " ['M5K', 'Downtown Toronto', 'Toronto Dominion Centre'],\n",
       " ['M6K', 'West Toronto', 'Brockton'],\n",
       " ['M6K', 'West Toronto', 'Exhibition Place'],\n",
       " ['M6K', 'West Toronto', 'Parkdale Village'],\n",
       " ['M7K', 'Not assigned', 'Not assigned'],\n",
       " ['M8K', 'Not assigned', 'Not assigned'],\n",
       " ['M9K', 'Not assigned', 'Not assigned'],\n",
       " ['M1L', 'Scarborough', 'Clairlea'],\n",
       " ['M1L', 'Scarborough', 'Golden Mile'],\n",
       " ['M1L', 'Scarborough', 'Oakridge'],\n",
       " ['M2L', 'North York', 'Silver Hills'],\n",
       " ['M2L', 'North York', 'York Mills'],\n",
       " ['M3L', 'North York', 'Downsview West'],\n",
       " ['M4L', 'East Toronto', 'The Beaches West'],\n",
       " ['M4L', 'East Toronto', 'India Bazaar'],\n",
       " ['M5L', 'Downtown Toronto', 'Commerce Court'],\n",
       " ['M5L', 'Downtown Toronto', 'Victoria Hotel'],\n",
       " ['M6L', 'North York', 'Downsview'],\n",
       " ['M6L', 'North York', 'North Park'],\n",
       " ['M6L', 'North York', 'Upwood Park'],\n",
       " ['M7L', 'Not assigned', 'Not assigned'],\n",
       " ['M8L', 'Not assigned', 'Not assigned'],\n",
       " ['M9L', 'North York', 'Humber Summit'],\n",
       " ['M1M', 'Scarborough', 'Cliffcrest'],\n",
       " ['M1M', 'Scarborough', 'Cliffside'],\n",
       " ['M1M', 'Scarborough', 'Scarborough Village West'],\n",
       " ['M2M', 'North York', 'Newtonbrook'],\n",
       " ['M2M', 'North York', 'Willowdale'],\n",
       " ['M3M', 'North York', 'Downsview Central'],\n",
       " ['M4M', 'East Toronto', 'Studio District'],\n",
       " ['M5M', 'North York', 'Bedford Park'],\n",
       " ['M5M', 'North York', 'Lawrence Manor East'],\n",
       " ['M6M', 'York', 'Del Ray'],\n",
       " ['M6M', 'York', 'Keelesdale'],\n",
       " ['M6M', 'York', 'Mount Dennis'],\n",
       " ['M6M', 'York', 'Silverthorn'],\n",
       " ['M7M', 'Not assigned', 'Not assigned'],\n",
       " ['M8M', 'Not assigned', 'Not assigned'],\n",
       " ['M9M', 'North York', 'Emery'],\n",
       " ['M9M', 'North York', 'Humberlea'],\n",
       " ['M1N', 'Scarborough', 'Birch Cliff'],\n",
       " ['M1N', 'Scarborough', 'Cliffside West'],\n",
       " ['M2N', 'North York', 'Willowdale South'],\n",
       " ['M3N', 'North York', 'Downsview Northwest'],\n",
       " ['M4N', 'Central Toronto', 'Lawrence Park'],\n",
       " ['M5N', 'Central Toronto', 'Roselawn'],\n",
       " ['M6N', 'York', 'The Junction North'],\n",
       " ['M6N', 'York', 'Runnymede'],\n",
       " ['M7N', 'Not assigned', 'Not assigned'],\n",
       " ['M8N', 'Not assigned', 'Not assigned'],\n",
       " ['M9N', 'York', 'Weston'],\n",
       " ['M1P', 'Scarborough', 'Dorset Park'],\n",
       " ['M1P', 'Scarborough', 'Scarborough Town Centre'],\n",
       " ['M1P', 'Scarborough', 'Wexford Heights'],\n",
       " ['M2P', 'North York', 'York Mills West'],\n",
       " ['M3P', 'Not assigned', 'Not assigned'],\n",
       " ['M4P', 'Central Toronto', 'Davisville North'],\n",
       " ['M5P', 'Central Toronto', 'Forest Hill North'],\n",
       " ['M5P', 'Central Toronto', 'Forest Hill West'],\n",
       " ['M6P', 'West Toronto', 'High Park'],\n",
       " ['M6P', 'West Toronto', 'The Junction South'],\n",
       " ['M7P', 'Not assigned', 'Not assigned'],\n",
       " ['M8P', 'Not assigned', 'Not assigned'],\n",
       " ['M9P', 'Etobicoke', 'Westmount'],\n",
       " ['M1R', 'Scarborough', 'Maryvale'],\n",
       " ['M1R', 'Scarborough', 'Wexford'],\n",
       " ['M2R', 'North York', 'Willowdale West'],\n",
       " ['M3R', 'Not assigned', 'Not assigned'],\n",
       " ['M4R', 'Central Toronto', 'North Toronto West'],\n",
       " ['M5R', 'Central Toronto', 'The Annex'],\n",
       " ['M5R', 'Central Toronto', 'North Midtown'],\n",
       " ['M5R', 'Central Toronto', 'Yorkville'],\n",
       " ['M6R', 'West Toronto', 'Parkdale'],\n",
       " ['M6R', 'West Toronto', 'Roncesvalles'],\n",
       " ['M7R', 'Mississauga', 'Canada Post Gateway Processing Centre'],\n",
       " ['M8R', 'Not assigned', 'Not assigned'],\n",
       " ['M9R', 'Etobicoke', 'Kingsview Village'],\n",
       " ['M9R', 'Etobicoke', 'Martin Grove Gardens'],\n",
       " ['M9R', 'Etobicoke', 'Richview Gardens'],\n",
       " ['M9R', 'Etobicoke', 'St. Phillips'],\n",
       " ['M1S', 'Scarborough', 'Agincourt'],\n",
       " ['M2S', 'Not assigned', 'Not assigned'],\n",
       " ['M3S', 'Not assigned', 'Not assigned'],\n",
       " ['M4S', 'Central Toronto', 'Davisville'],\n",
       " ['M5S', 'Downtown Toronto', 'Harbord'],\n",
       " ['M5S', 'Downtown Toronto', 'University of Toronto'],\n",
       " ['M6S', 'West Toronto', 'Runnymede'],\n",
       " ['M6S', 'West Toronto', 'Swansea'],\n",
       " ['M7S', 'Not assigned', 'Not assigned'],\n",
       " ['M8S', 'Not assigned', 'Not assigned'],\n",
       " ['M9S', 'Not assigned', 'Not assigned'],\n",
       " ['M1T', 'Scarborough', 'Clarks Corners'],\n",
       " ['M1T', 'Scarborough', 'Sullivan'],\n",
       " ['M1T', 'Scarborough', \"Tam O'Shanter\"],\n",
       " ['M2T', 'Not assigned', 'Not assigned'],\n",
       " ['M3T', 'Not assigned', 'Not assigned'],\n",
       " ['M4T', 'Central Toronto', 'Moore Park'],\n",
       " ['M4T', 'Central Toronto', 'Summerhill East'],\n",
       " ['M5T', 'Downtown Toronto', 'Chinatown'],\n",
       " ['M5T', 'Downtown Toronto', 'Grange Park'],\n",
       " ['M5T', 'Downtown Toronto', 'Kensington Market'],\n",
       " ['M6T', 'Not assigned', 'Not assigned'],\n",
       " ['M7T', 'Not assigned', 'Not assigned'],\n",
       " ['M8T', 'Not assigned', 'Not assigned'],\n",
       " ['M9T', 'Not assigned', 'Not assigned'],\n",
       " ['M1V', 'Scarborough', 'Agincourt North'],\n",
       " ['M1V', 'Scarborough', \"L'Amoreaux East\"],\n",
       " ['M1V', 'Scarborough', 'Milliken'],\n",
       " ['M1V', 'Scarborough', 'Steeles East'],\n",
       " ['M2V', 'Not assigned', 'Not assigned'],\n",
       " ['M3V', 'Not assigned', 'Not assigned'],\n",
       " ['M4V', 'Central Toronto', 'Deer Park'],\n",
       " ['M4V', 'Central Toronto', 'Forest Hill SE'],\n",
       " ['M4V', 'Central Toronto', 'Rathnelly'],\n",
       " ['M4V', 'Central Toronto', 'South Hill'],\n",
       " ['M4V', 'Central Toronto', 'Summerhill West'],\n",
       " ['M5V', 'Downtown Toronto', 'CN Tower'],\n",
       " ['M5V', 'Downtown Toronto', 'Bathurst Quay'],\n",
       " ['M5V', 'Downtown Toronto', 'Island airport'],\n",
       " ['M5V', 'Downtown Toronto', 'Harbourfront West'],\n",
       " ['M5V', 'Downtown Toronto', 'King and Spadina'],\n",
       " ['M5V', 'Downtown Toronto', 'Railway Lands'],\n",
       " ['M5V', 'Downtown Toronto', 'South Niagara'],\n",
       " ['M6V', 'Not assigned', 'Not assigned'],\n",
       " ['M7V', 'Not assigned', 'Not assigned'],\n",
       " ['M8V', 'Etobicoke', 'Humber Bay Shores'],\n",
       " ['M8V', 'Etobicoke', 'Mimico South'],\n",
       " ['M8V', 'Etobicoke', 'New Toronto'],\n",
       " ['M9V', 'Etobicoke', 'Albion Gardens'],\n",
       " ['M9V', 'Etobicoke', 'Beaumond Heights'],\n",
       " ['M9V', 'Etobicoke', 'Humbergate'],\n",
       " ['M9V', 'Etobicoke', 'Jamestown'],\n",
       " ['M9V', 'Etobicoke', 'Mount Olive'],\n",
       " ['M9V', 'Etobicoke', 'Silverstone'],\n",
       " ['M9V', 'Etobicoke', 'South Steeles'],\n",
       " ['M9V', 'Etobicoke', 'Thistletown'],\n",
       " ['M1W', 'Scarborough', \"L'Amoreaux West\"],\n",
       " ['M2W', 'Not assigned', 'Not assigned'],\n",
       " ['M3W', 'Not assigned', 'Not assigned'],\n",
       " ['M4W', 'Downtown Toronto', 'Rosedale'],\n",
       " ['M5W', 'Downtown Toronto', 'Stn A PO Boxes 25 The Esplanade'],\n",
       " ['M6W', 'Not assigned', 'Not assigned'],\n",
       " ['M7W', 'Not assigned', 'Not assigned'],\n",
       " ['M8W', 'Etobicoke', 'Alderwood'],\n",
       " ['M8W', 'Etobicoke', 'Long Branch'],\n",
       " ['M9W', 'Etobicoke', 'Northwest'],\n",
       " ['M1X', 'Scarborough', 'Upper Rouge'],\n",
       " ['M2X', 'Not assigned', 'Not assigned'],\n",
       " ['M3X', 'Not assigned', 'Not assigned'],\n",
       " ['M4X', 'Downtown Toronto', 'Cabbagetown'],\n",
       " ['M4X', 'Downtown Toronto', 'St. James Town'],\n",
       " ['M5X', 'Downtown Toronto', 'First Canadian Place'],\n",
       " ['M5X', 'Downtown Toronto', 'Underground city'],\n",
       " ['M6X', 'Not assigned', 'Not assigned'],\n",
       " ['M7X', 'Not assigned', 'Not assigned'],\n",
       " ['M8X', 'Etobicoke', 'The Kingsway'],\n",
       " ['M8X', 'Etobicoke', 'Montgomery Road'],\n",
       " ['M8X', 'Etobicoke', 'Old Mill North'],\n",
       " ['M9X', 'Not assigned', 'Not assigned'],\n",
       " ['M1Y', 'Not assigned', 'Not assigned'],\n",
       " ['M2Y', 'Not assigned', 'Not assigned'],\n",
       " ['M3Y', 'Not assigned', 'Not assigned'],\n",
       " ['M4Y', 'Downtown Toronto', 'Church and Wellesley'],\n",
       " ['M5Y', 'Not assigned', 'Not assigned'],\n",
       " ['M6Y', 'Not assigned', 'Not assigned'],\n",
       " ['M7Y', 'East Toronto', 'Business Reply Mail Processing Centre 969 Eastern'],\n",
       " ['M8Y', 'Etobicoke', 'Humber Bay'],\n",
       " ['M8Y', 'Etobicoke', \"King's Mill Park\"],\n",
       " ['M8Y', 'Etobicoke', 'Kingsway Park South East'],\n",
       " ['M8Y', 'Etobicoke', 'Mimico NE'],\n",
       " ['M8Y', 'Etobicoke', 'Old Mill South'],\n",
       " ['M8Y', 'Etobicoke', 'The Queensway East'],\n",
       " ['M8Y', 'Etobicoke', 'Royal York South East'],\n",
       " ['M8Y', 'Etobicoke', 'Sunnylea'],\n",
       " ['M9Y', 'Not assigned', 'Not assigned'],\n",
       " ['M1Z', 'Not assigned', 'Not assigned'],\n",
       " ['M2Z', 'Not assigned', 'Not assigned'],\n",
       " ['M3Z', 'Not assigned', 'Not assigned'],\n",
       " ['M4Z', 'Not assigned', 'Not assigned'],\n",
       " ['M5Z', 'Not assigned', 'Not assigned'],\n",
       " ['M6Z', 'Not assigned', 'Not assigned'],\n",
       " ['M7Z', 'Not assigned', 'Not assigned'],\n",
       " ['M8Z', 'Etobicoke', 'Kingsway Park South West'],\n",
       " ['M8Z', 'Etobicoke', 'Mimico NW'],\n",
       " ['M8Z', 'Etobicoke', 'The Queensway West'],\n",
       " ['M8Z', 'Etobicoke', 'Royal York South West'],\n",
       " ['M8Z', 'Etobicoke', 'South of Bloor'],\n",
       " ['M9Z', 'Not assigned', 'Not assigned']]"
      ]
     },
     "execution_count": 142,
     "metadata": {},
     "output_type": "execute_result"
    }
   ],
   "source": [
    "rows"
   ]
  },
  {
   "cell_type": "code",
   "execution_count": 143,
   "metadata": {},
   "outputs": [],
   "source": [
    "df=pd.DataFrame(rows)"
   ]
  },
  {
   "cell_type": "code",
   "execution_count": 144,
   "metadata": {},
   "outputs": [
    {
     "data": {
      "text/html": [
       "<div>\n",
       "<style scoped>\n",
       "    .dataframe tbody tr th:only-of-type {\n",
       "        vertical-align: middle;\n",
       "    }\n",
       "\n",
       "    .dataframe tbody tr th {\n",
       "        vertical-align: top;\n",
       "    }\n",
       "\n",
       "    .dataframe thead th {\n",
       "        text-align: right;\n",
       "    }\n",
       "</style>\n",
       "<table border=\"1\" class=\"dataframe\">\n",
       "  <thead>\n",
       "    <tr style=\"text-align: right;\">\n",
       "      <th></th>\n",
       "      <th>0</th>\n",
       "      <th>1</th>\n",
       "      <th>2</th>\n",
       "    </tr>\n",
       "  </thead>\n",
       "  <tbody>\n",
       "    <tr>\n",
       "      <th>0</th>\n",
       "      <td>M1A</td>\n",
       "      <td>Not assigned</td>\n",
       "      <td>Not assigned</td>\n",
       "    </tr>\n",
       "    <tr>\n",
       "      <th>1</th>\n",
       "      <td>M2A</td>\n",
       "      <td>Not assigned</td>\n",
       "      <td>Not assigned</td>\n",
       "    </tr>\n",
       "    <tr>\n",
       "      <th>2</th>\n",
       "      <td>M3A</td>\n",
       "      <td>North York</td>\n",
       "      <td>Parkwoods</td>\n",
       "    </tr>\n",
       "    <tr>\n",
       "      <th>3</th>\n",
       "      <td>M4A</td>\n",
       "      <td>North York</td>\n",
       "      <td>Victoria Village</td>\n",
       "    </tr>\n",
       "    <tr>\n",
       "      <th>4</th>\n",
       "      <td>M5A</td>\n",
       "      <td>Downtown Toronto</td>\n",
       "      <td>Harbourfront</td>\n",
       "    </tr>\n",
       "  </tbody>\n",
       "</table>\n",
       "</div>"
      ],
      "text/plain": [
       "     0                 1                 2\n",
       "0  M1A      Not assigned      Not assigned\n",
       "1  M2A      Not assigned      Not assigned\n",
       "2  M3A        North York         Parkwoods\n",
       "3  M4A        North York  Victoria Village\n",
       "4  M5A  Downtown Toronto      Harbourfront"
      ]
     },
     "execution_count": 144,
     "metadata": {},
     "output_type": "execute_result"
    }
   ],
   "source": [
    "df.head()"
   ]
  },
  {
   "cell_type": "code",
   "execution_count": 145,
   "metadata": {},
   "outputs": [],
   "source": [
    "df.rename(columns={0:'Postal Code',1:'Borough',2:'Neighbourhood'},inplace=True)"
   ]
  },
  {
   "cell_type": "code",
   "execution_count": 146,
   "metadata": {},
   "outputs": [
    {
     "data": {
      "text/html": [
       "<div>\n",
       "<style scoped>\n",
       "    .dataframe tbody tr th:only-of-type {\n",
       "        vertical-align: middle;\n",
       "    }\n",
       "\n",
       "    .dataframe tbody tr th {\n",
       "        vertical-align: top;\n",
       "    }\n",
       "\n",
       "    .dataframe thead th {\n",
       "        text-align: right;\n",
       "    }\n",
       "</style>\n",
       "<table border=\"1\" class=\"dataframe\">\n",
       "  <thead>\n",
       "    <tr style=\"text-align: right;\">\n",
       "      <th></th>\n",
       "      <th>Postal Code</th>\n",
       "      <th>Borough</th>\n",
       "      <th>Neighbourhood</th>\n",
       "    </tr>\n",
       "  </thead>\n",
       "  <tbody>\n",
       "    <tr>\n",
       "      <th>0</th>\n",
       "      <td>M1A</td>\n",
       "      <td>Not assigned</td>\n",
       "      <td>Not assigned</td>\n",
       "    </tr>\n",
       "    <tr>\n",
       "      <th>1</th>\n",
       "      <td>M2A</td>\n",
       "      <td>Not assigned</td>\n",
       "      <td>Not assigned</td>\n",
       "    </tr>\n",
       "    <tr>\n",
       "      <th>2</th>\n",
       "      <td>M3A</td>\n",
       "      <td>North York</td>\n",
       "      <td>Parkwoods</td>\n",
       "    </tr>\n",
       "    <tr>\n",
       "      <th>3</th>\n",
       "      <td>M4A</td>\n",
       "      <td>North York</td>\n",
       "      <td>Victoria Village</td>\n",
       "    </tr>\n",
       "    <tr>\n",
       "      <th>4</th>\n",
       "      <td>M5A</td>\n",
       "      <td>Downtown Toronto</td>\n",
       "      <td>Harbourfront</td>\n",
       "    </tr>\n",
       "  </tbody>\n",
       "</table>\n",
       "</div>"
      ],
      "text/plain": [
       "  Postal Code           Borough     Neighbourhood\n",
       "0         M1A      Not assigned      Not assigned\n",
       "1         M2A      Not assigned      Not assigned\n",
       "2         M3A        North York         Parkwoods\n",
       "3         M4A        North York  Victoria Village\n",
       "4         M5A  Downtown Toronto      Harbourfront"
      ]
     },
     "execution_count": 146,
     "metadata": {},
     "output_type": "execute_result"
    }
   ],
   "source": [
    "df.head()"
   ]
  },
  {
   "cell_type": "markdown",
   "metadata": {},
   "source": [
    "The not assigned boroughs are dropped "
   ]
  },
  {
   "cell_type": "code",
   "execution_count": 147,
   "metadata": {},
   "outputs": [],
   "source": [
    "df.drop(df[df['Borough']=='Not assigned'].index,axis=0,inplace=True)"
   ]
  },
  {
   "cell_type": "markdown",
   "metadata": {},
   "source": [
    "droping not assinged cells"
   ]
  },
  {
   "cell_type": "code",
   "execution_count": 148,
   "metadata": {},
   "outputs": [
    {
     "data": {
      "text/html": [
       "<div>\n",
       "<style scoped>\n",
       "    .dataframe tbody tr th:only-of-type {\n",
       "        vertical-align: middle;\n",
       "    }\n",
       "\n",
       "    .dataframe tbody tr th {\n",
       "        vertical-align: top;\n",
       "    }\n",
       "\n",
       "    .dataframe thead th {\n",
       "        text-align: right;\n",
       "    }\n",
       "</style>\n",
       "<table border=\"1\" class=\"dataframe\">\n",
       "  <thead>\n",
       "    <tr style=\"text-align: right;\">\n",
       "      <th></th>\n",
       "      <th>Postal Code</th>\n",
       "      <th>Borough</th>\n",
       "      <th>Neighbourhood</th>\n",
       "    </tr>\n",
       "  </thead>\n",
       "  <tbody>\n",
       "    <tr>\n",
       "      <th>2</th>\n",
       "      <td>M3A</td>\n",
       "      <td>North York</td>\n",
       "      <td>Parkwoods</td>\n",
       "    </tr>\n",
       "    <tr>\n",
       "      <th>3</th>\n",
       "      <td>M4A</td>\n",
       "      <td>North York</td>\n",
       "      <td>Victoria Village</td>\n",
       "    </tr>\n",
       "    <tr>\n",
       "      <th>4</th>\n",
       "      <td>M5A</td>\n",
       "      <td>Downtown Toronto</td>\n",
       "      <td>Harbourfront</td>\n",
       "    </tr>\n",
       "    <tr>\n",
       "      <th>5</th>\n",
       "      <td>M5A</td>\n",
       "      <td>Downtown Toronto</td>\n",
       "      <td>Regent Park</td>\n",
       "    </tr>\n",
       "    <tr>\n",
       "      <th>6</th>\n",
       "      <td>M6A</td>\n",
       "      <td>North York</td>\n",
       "      <td>Lawrence Heights</td>\n",
       "    </tr>\n",
       "  </tbody>\n",
       "</table>\n",
       "</div>"
      ],
      "text/plain": [
       "  Postal Code           Borough     Neighbourhood\n",
       "2         M3A        North York         Parkwoods\n",
       "3         M4A        North York  Victoria Village\n",
       "4         M5A  Downtown Toronto      Harbourfront\n",
       "5         M5A  Downtown Toronto       Regent Park\n",
       "6         M6A        North York  Lawrence Heights"
      ]
     },
     "execution_count": 148,
     "metadata": {},
     "output_type": "execute_result"
    }
   ],
   "source": [
    "df.head()"
   ]
  },
  {
   "cell_type": "markdown",
   "metadata": {},
   "source": [
    "printing of dataframe"
   ]
  },
  {
   "cell_type": "code",
   "execution_count": 149,
   "metadata": {},
   "outputs": [
    {
     "name": "stdout",
     "output_type": "stream",
     "text": [
      "    Postal Code           Borough  \\\n",
      "2           M3A        North York   \n",
      "3           M4A        North York   \n",
      "4           M5A  Downtown Toronto   \n",
      "5           M5A  Downtown Toronto   \n",
      "6           M6A        North York   \n",
      "7           M6A        North York   \n",
      "8           M7A      Queen's Park   \n",
      "10          M9A         Etobicoke   \n",
      "11          M1B       Scarborough   \n",
      "12          M1B       Scarborough   \n",
      "14          M3B        North York   \n",
      "15          M4B         East York   \n",
      "16          M4B         East York   \n",
      "17          M5B  Downtown Toronto   \n",
      "18          M5B  Downtown Toronto   \n",
      "19          M6B        North York   \n",
      "22          M9B         Etobicoke   \n",
      "23          M9B         Etobicoke   \n",
      "24          M9B         Etobicoke   \n",
      "25          M9B         Etobicoke   \n",
      "26          M9B         Etobicoke   \n",
      "27          M1C       Scarborough   \n",
      "28          M1C       Scarborough   \n",
      "29          M1C       Scarborough   \n",
      "31          M3C        North York   \n",
      "32          M3C        North York   \n",
      "33          M4C         East York   \n",
      "34          M5C  Downtown Toronto   \n",
      "35          M6C              York   \n",
      "38          M9C         Etobicoke   \n",
      "..          ...               ...   \n",
      "235         M9V         Etobicoke   \n",
      "236         M1W       Scarborough   \n",
      "239         M4W  Downtown Toronto   \n",
      "240         M5W  Downtown Toronto   \n",
      "243         M8W         Etobicoke   \n",
      "244         M8W         Etobicoke   \n",
      "245         M9W         Etobicoke   \n",
      "246         M1X       Scarborough   \n",
      "249         M4X  Downtown Toronto   \n",
      "250         M4X  Downtown Toronto   \n",
      "251         M5X  Downtown Toronto   \n",
      "252         M5X  Downtown Toronto   \n",
      "255         M8X         Etobicoke   \n",
      "256         M8X         Etobicoke   \n",
      "257         M8X         Etobicoke   \n",
      "262         M4Y  Downtown Toronto   \n",
      "265         M7Y      East Toronto   \n",
      "266         M8Y         Etobicoke   \n",
      "267         M8Y         Etobicoke   \n",
      "268         M8Y         Etobicoke   \n",
      "269         M8Y         Etobicoke   \n",
      "270         M8Y         Etobicoke   \n",
      "271         M8Y         Etobicoke   \n",
      "272         M8Y         Etobicoke   \n",
      "273         M8Y         Etobicoke   \n",
      "282         M8Z         Etobicoke   \n",
      "283         M8Z         Etobicoke   \n",
      "284         M8Z         Etobicoke   \n",
      "285         M8Z         Etobicoke   \n",
      "286         M8Z         Etobicoke   \n",
      "\n",
      "                                         Neighbourhood  \n",
      "2                                            Parkwoods  \n",
      "3                                     Victoria Village  \n",
      "4                                         Harbourfront  \n",
      "5                                          Regent Park  \n",
      "6                                     Lawrence Heights  \n",
      "7                                       Lawrence Manor  \n",
      "8                                         Not assigned  \n",
      "10                                    Islington Avenue  \n",
      "11                                               Rouge  \n",
      "12                                             Malvern  \n",
      "14                                     Don Mills North  \n",
      "15                                    Woodbine Gardens  \n",
      "16                                       Parkview Hill  \n",
      "17                                             Ryerson  \n",
      "18                                     Garden District  \n",
      "19                                           Glencairn  \n",
      "22                                          Cloverdale  \n",
      "23                                           Islington  \n",
      "24                                        Martin Grove  \n",
      "25                                    Princess Gardens  \n",
      "26                                     West Deane Park  \n",
      "27                                      Highland Creek  \n",
      "28                                          Rouge Hill  \n",
      "29                                          Port Union  \n",
      "31                                     Flemingdon Park  \n",
      "32                                     Don Mills South  \n",
      "33                                    Woodbine Heights  \n",
      "34                                      St. James Town  \n",
      "35                                  Humewood-Cedarvale  \n",
      "38                                   Bloordale Gardens  \n",
      "..                                                 ...  \n",
      "235                                        Thistletown  \n",
      "236                                    L'Amoreaux West  \n",
      "239                                           Rosedale  \n",
      "240                    Stn A PO Boxes 25 The Esplanade  \n",
      "243                                          Alderwood  \n",
      "244                                        Long Branch  \n",
      "245                                          Northwest  \n",
      "246                                        Upper Rouge  \n",
      "249                                        Cabbagetown  \n",
      "250                                     St. James Town  \n",
      "251                               First Canadian Place  \n",
      "252                                   Underground city  \n",
      "255                                       The Kingsway  \n",
      "256                                    Montgomery Road  \n",
      "257                                     Old Mill North  \n",
      "262                               Church and Wellesley  \n",
      "265  Business Reply Mail Processing Centre 969 Eastern  \n",
      "266                                         Humber Bay  \n",
      "267                                   King's Mill Park  \n",
      "268                           Kingsway Park South East  \n",
      "269                                          Mimico NE  \n",
      "270                                     Old Mill South  \n",
      "271                                 The Queensway East  \n",
      "272                              Royal York South East  \n",
      "273                                           Sunnylea  \n",
      "282                           Kingsway Park South West  \n",
      "283                                          Mimico NW  \n",
      "284                                 The Queensway West  \n",
      "285                              Royal York South West  \n",
      "286                                     South of Bloor  \n",
      "\n",
      "[211 rows x 3 columns]\n"
     ]
    }
   ],
   "source": [
    "print(df)"
   ]
  },
  {
   "cell_type": "code",
   "execution_count": 150,
   "metadata": {},
   "outputs": [],
   "source": [
    "df2=df.groupby(by=['Postal Code','Borough']).agg(lambda x:','.join(x))\n",
    "df2.reset_index(level=['Postal Code','Borough'],inplace=True)"
   ]
  },
  {
   "cell_type": "markdown",
   "metadata": {},
   "source": [
    "Code for similar Postal Code and Borough "
   ]
  },
  {
   "cell_type": "code",
   "execution_count": 151,
   "metadata": {},
   "outputs": [
    {
     "data": {
      "text/html": [
       "<div>\n",
       "<style scoped>\n",
       "    .dataframe tbody tr th:only-of-type {\n",
       "        vertical-align: middle;\n",
       "    }\n",
       "\n",
       "    .dataframe tbody tr th {\n",
       "        vertical-align: top;\n",
       "    }\n",
       "\n",
       "    .dataframe thead th {\n",
       "        text-align: right;\n",
       "    }\n",
       "</style>\n",
       "<table border=\"1\" class=\"dataframe\">\n",
       "  <thead>\n",
       "    <tr style=\"text-align: right;\">\n",
       "      <th></th>\n",
       "      <th>Postal Code</th>\n",
       "      <th>Borough</th>\n",
       "      <th>Neighbourhood</th>\n",
       "    </tr>\n",
       "  </thead>\n",
       "  <tbody>\n",
       "    <tr>\n",
       "      <th>0</th>\n",
       "      <td>M1B</td>\n",
       "      <td>Scarborough</td>\n",
       "      <td>Rouge,Malvern</td>\n",
       "    </tr>\n",
       "    <tr>\n",
       "      <th>1</th>\n",
       "      <td>M1C</td>\n",
       "      <td>Scarborough</td>\n",
       "      <td>Highland Creek,Rouge Hill,Port Union</td>\n",
       "    </tr>\n",
       "    <tr>\n",
       "      <th>2</th>\n",
       "      <td>M1E</td>\n",
       "      <td>Scarborough</td>\n",
       "      <td>Guildwood,Morningside,West Hill</td>\n",
       "    </tr>\n",
       "    <tr>\n",
       "      <th>3</th>\n",
       "      <td>M1G</td>\n",
       "      <td>Scarborough</td>\n",
       "      <td>Woburn</td>\n",
       "    </tr>\n",
       "    <tr>\n",
       "      <th>4</th>\n",
       "      <td>M1H</td>\n",
       "      <td>Scarborough</td>\n",
       "      <td>Cedarbrae</td>\n",
       "    </tr>\n",
       "  </tbody>\n",
       "</table>\n",
       "</div>"
      ],
      "text/plain": [
       "  Postal Code      Borough                         Neighbourhood\n",
       "0         M1B  Scarborough                         Rouge,Malvern\n",
       "1         M1C  Scarborough  Highland Creek,Rouge Hill,Port Union\n",
       "2         M1E  Scarborough       Guildwood,Morningside,West Hill\n",
       "3         M1G  Scarborough                                Woburn\n",
       "4         M1H  Scarborough                             Cedarbrae"
      ]
     },
     "execution_count": 151,
     "metadata": {},
     "output_type": "execute_result"
    }
   ],
   "source": [
    "df2.head()"
   ]
  },
  {
   "cell_type": "code",
   "execution_count": 152,
   "metadata": {},
   "outputs": [],
   "source": [
    "df2[df2['Neighbourhood']=='Not assigned']=df2['Borough']"
   ]
  },
  {
   "cell_type": "code",
   "execution_count": 127,
   "metadata": {},
   "outputs": [
    {
     "data": {
      "text/html": [
       "<div>\n",
       "<style scoped>\n",
       "    .dataframe tbody tr th:only-of-type {\n",
       "        vertical-align: middle;\n",
       "    }\n",
       "\n",
       "    .dataframe tbody tr th {\n",
       "        vertical-align: top;\n",
       "    }\n",
       "\n",
       "    .dataframe thead th {\n",
       "        text-align: right;\n",
       "    }\n",
       "</style>\n",
       "<table border=\"1\" class=\"dataframe\">\n",
       "  <thead>\n",
       "    <tr style=\"text-align: right;\">\n",
       "      <th></th>\n",
       "      <th>Postal Code</th>\n",
       "      <th>Borough</th>\n",
       "      <th>Neighbourhood</th>\n",
       "    </tr>\n",
       "  </thead>\n",
       "  <tbody>\n",
       "    <tr>\n",
       "      <th>0</th>\n",
       "      <td>M1B</td>\n",
       "      <td>Scarborough</td>\n",
       "      <td>Rouge,Malvern</td>\n",
       "    </tr>\n",
       "    <tr>\n",
       "      <th>1</th>\n",
       "      <td>M1C</td>\n",
       "      <td>Scarborough</td>\n",
       "      <td>Highland Creek,Rouge Hill,Port Union</td>\n",
       "    </tr>\n",
       "    <tr>\n",
       "      <th>2</th>\n",
       "      <td>M1E</td>\n",
       "      <td>Scarborough</td>\n",
       "      <td>Guildwood,Morningside,West Hill</td>\n",
       "    </tr>\n",
       "    <tr>\n",
       "      <th>3</th>\n",
       "      <td>M1G</td>\n",
       "      <td>Scarborough</td>\n",
       "      <td>Woburn</td>\n",
       "    </tr>\n",
       "    <tr>\n",
       "      <th>4</th>\n",
       "      <td>M1H</td>\n",
       "      <td>Scarborough</td>\n",
       "      <td>Cedarbrae</td>\n",
       "    </tr>\n",
       "  </tbody>\n",
       "</table>\n",
       "</div>"
      ],
      "text/plain": [
       "  Postal Code      Borough                         Neighbourhood\n",
       "0         M1B  Scarborough                         Rouge,Malvern\n",
       "1         M1C  Scarborough  Highland Creek,Rouge Hill,Port Union\n",
       "2         M1E  Scarborough       Guildwood,Morningside,West Hill\n",
       "3         M1G  Scarborough                                Woburn\n",
       "4         M1H  Scarborough                             Cedarbrae"
      ]
     },
     "execution_count": 127,
     "metadata": {},
     "output_type": "execute_result"
    }
   ],
   "source": [
    "df2.head()"
   ]
  },
  {
   "cell_type": "code",
   "execution_count": 153,
   "metadata": {},
   "outputs": [
    {
     "data": {
      "text/plain": [
       "(103, 3)"
      ]
     },
     "execution_count": 153,
     "metadata": {},
     "output_type": "execute_result"
    }
   ],
   "source": [
    "df2.shape"
   ]
  },
  {
   "cell_type": "markdown",
   "metadata": {},
   "source": [
    "code for printing the shape of dataset"
   ]
  },
  {
   "cell_type": "code",
   "execution_count": 154,
   "metadata": {},
   "outputs": [],
   "source": [
    "df3=pd.read_csv(r'C:\\Users\\Varun Kurup\\Downloads\\Geospatial_Coordinates.csv')"
   ]
  },
  {
   "cell_type": "code",
   "execution_count": 155,
   "metadata": {},
   "outputs": [],
   "source": [
    "df4=pd.merge(df2,df3,on='Postal Code',how='left')"
   ]
  },
  {
   "cell_type": "markdown",
   "metadata": {},
   "source": [
    "merging the cells for the latitude and longitude"
   ]
  },
  {
   "cell_type": "code",
   "execution_count": 156,
   "metadata": {},
   "outputs": [
    {
     "data": {
      "text/html": [
       "<div>\n",
       "<style scoped>\n",
       "    .dataframe tbody tr th:only-of-type {\n",
       "        vertical-align: middle;\n",
       "    }\n",
       "\n",
       "    .dataframe tbody tr th {\n",
       "        vertical-align: top;\n",
       "    }\n",
       "\n",
       "    .dataframe thead th {\n",
       "        text-align: right;\n",
       "    }\n",
       "</style>\n",
       "<table border=\"1\" class=\"dataframe\">\n",
       "  <thead>\n",
       "    <tr style=\"text-align: right;\">\n",
       "      <th></th>\n",
       "      <th>Postal Code</th>\n",
       "      <th>Borough</th>\n",
       "      <th>Neighbourhood</th>\n",
       "      <th>Latitude</th>\n",
       "      <th>Longitude</th>\n",
       "    </tr>\n",
       "  </thead>\n",
       "  <tbody>\n",
       "    <tr>\n",
       "      <th>0</th>\n",
       "      <td>M1B</td>\n",
       "      <td>Scarborough</td>\n",
       "      <td>Rouge,Malvern</td>\n",
       "      <td>43.806686</td>\n",
       "      <td>-79.194353</td>\n",
       "    </tr>\n",
       "    <tr>\n",
       "      <th>1</th>\n",
       "      <td>M1C</td>\n",
       "      <td>Scarborough</td>\n",
       "      <td>Highland Creek,Rouge Hill,Port Union</td>\n",
       "      <td>43.784535</td>\n",
       "      <td>-79.160497</td>\n",
       "    </tr>\n",
       "    <tr>\n",
       "      <th>2</th>\n",
       "      <td>M1E</td>\n",
       "      <td>Scarborough</td>\n",
       "      <td>Guildwood,Morningside,West Hill</td>\n",
       "      <td>43.763573</td>\n",
       "      <td>-79.188711</td>\n",
       "    </tr>\n",
       "    <tr>\n",
       "      <th>3</th>\n",
       "      <td>M1G</td>\n",
       "      <td>Scarborough</td>\n",
       "      <td>Woburn</td>\n",
       "      <td>43.770992</td>\n",
       "      <td>-79.216917</td>\n",
       "    </tr>\n",
       "    <tr>\n",
       "      <th>4</th>\n",
       "      <td>M1H</td>\n",
       "      <td>Scarborough</td>\n",
       "      <td>Cedarbrae</td>\n",
       "      <td>43.773136</td>\n",
       "      <td>-79.239476</td>\n",
       "    </tr>\n",
       "  </tbody>\n",
       "</table>\n",
       "</div>"
      ],
      "text/plain": [
       "  Postal Code      Borough                         Neighbourhood   Latitude  \\\n",
       "0         M1B  Scarborough                         Rouge,Malvern  43.806686   \n",
       "1         M1C  Scarborough  Highland Creek,Rouge Hill,Port Union  43.784535   \n",
       "2         M1E  Scarborough       Guildwood,Morningside,West Hill  43.763573   \n",
       "3         M1G  Scarborough                                Woburn  43.770992   \n",
       "4         M1H  Scarborough                             Cedarbrae  43.773136   \n",
       "\n",
       "   Longitude  \n",
       "0 -79.194353  \n",
       "1 -79.160497  \n",
       "2 -79.188711  \n",
       "3 -79.216917  \n",
       "4 -79.239476  "
      ]
     },
     "execution_count": 156,
     "metadata": {},
     "output_type": "execute_result"
    }
   ],
   "source": [
    "df4.head()"
   ]
  },
  {
   "cell_type": "code",
   "execution_count": 157,
   "metadata": {},
   "outputs": [
    {
     "name": "stdout",
     "output_type": "stream",
     "text": [
      "The geograpical coordinate of Toronto are 43.653963, -79.387207.\n"
     ]
    }
   ],
   "source": [
    "import folium\n",
    "from geopy.geocoders import Nominatim\n",
    "address = 'Toronto'\n",
    "\n",
    "geolocator = Nominatim(user_agent=\"ny_explorer\")\n",
    "location = geolocator.geocode(address)\n",
    "latitude = location.latitude\n",
    "longitude = location.longitude\n",
    "print('The geograpical coordinate of Toronto are {}, {}.'.format(latitude, longitude))"
   ]
  },
  {
   "cell_type": "code",
   "execution_count": 159,
   "metadata": {},
   "outputs": [
    {
     "data": {
      "text/html": [
       "<div style=\"width:100%;\"><div style=\"position:relative;width:100%;height:0;padding-bottom:60%;\"><iframe src=\"data:text/html;charset=utf-8;base64,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\" style=\"position:absolute;width:100%;height:100%;left:0;top:0;border:none !important;\" allowfullscreen webkitallowfullscreen mozallowfullscreen></iframe></div></div>"
      ],
      "text/plain": [
       "<folium.folium.Map at 0x20e8d4f3978>"
      ]
     },
     "execution_count": 159,
     "metadata": {},
     "output_type": "execute_result"
    }
   ],
   "source": [
    "map_toronto = folium.Map(location=[latitude,longitude], zoom_start=10)\n",
    "df4=df4.dropna(subset=['Longitude'])\n",
    "df4=df4.dropna(subset=['Latitude'])\n",
    "# add markers to map\n",
    "for lat, lng, borough, neighborhood in zip(df4['Latitude'], df4['Longitude'], df4['Borough'], df4['Neighbourhood']):\n",
    "    label = '{}, {}'.format(neighborhood, borough)\n",
    "    label = folium.Popup(label, parse_html=True)\n",
    "    folium.CircleMarker(\n",
    "        [lat, lng],\n",
    "        radius=5,\n",
    "        popup=label,\n",
    "        color='blue',\n",
    "        fill=True,\n",
    "        fill_color='#3186cc',\n",
    "        fill_opacity=0.7,\n",
    "        parse_html=False).add_to(map_toronto)  \n",
    "    \n",
    "map_toronto"
   ]
  },
  {
   "cell_type": "code",
   "execution_count": 164,
   "metadata": {},
   "outputs": [],
   "source": [
    "tordf=df4[df4['Borough']=='Central Toronto'].reset_index(drop=True)"
   ]
  },
  {
   "cell_type": "code",
   "execution_count": 165,
   "metadata": {},
   "outputs": [
    {
     "data": {
      "text/html": [
       "<div>\n",
       "<style scoped>\n",
       "    .dataframe tbody tr th:only-of-type {\n",
       "        vertical-align: middle;\n",
       "    }\n",
       "\n",
       "    .dataframe tbody tr th {\n",
       "        vertical-align: top;\n",
       "    }\n",
       "\n",
       "    .dataframe thead th {\n",
       "        text-align: right;\n",
       "    }\n",
       "</style>\n",
       "<table border=\"1\" class=\"dataframe\">\n",
       "  <thead>\n",
       "    <tr style=\"text-align: right;\">\n",
       "      <th></th>\n",
       "      <th>Postal Code</th>\n",
       "      <th>Borough</th>\n",
       "      <th>Neighbourhood</th>\n",
       "      <th>Latitude</th>\n",
       "      <th>Longitude</th>\n",
       "    </tr>\n",
       "  </thead>\n",
       "  <tbody>\n",
       "    <tr>\n",
       "      <th>0</th>\n",
       "      <td>M4N</td>\n",
       "      <td>Central Toronto</td>\n",
       "      <td>Lawrence Park</td>\n",
       "      <td>43.728020</td>\n",
       "      <td>-79.388790</td>\n",
       "    </tr>\n",
       "    <tr>\n",
       "      <th>1</th>\n",
       "      <td>M4P</td>\n",
       "      <td>Central Toronto</td>\n",
       "      <td>Davisville North</td>\n",
       "      <td>43.712751</td>\n",
       "      <td>-79.390197</td>\n",
       "    </tr>\n",
       "    <tr>\n",
       "      <th>2</th>\n",
       "      <td>M4R</td>\n",
       "      <td>Central Toronto</td>\n",
       "      <td>North Toronto West</td>\n",
       "      <td>43.715383</td>\n",
       "      <td>-79.405678</td>\n",
       "    </tr>\n",
       "    <tr>\n",
       "      <th>3</th>\n",
       "      <td>M4S</td>\n",
       "      <td>Central Toronto</td>\n",
       "      <td>Davisville</td>\n",
       "      <td>43.704324</td>\n",
       "      <td>-79.388790</td>\n",
       "    </tr>\n",
       "    <tr>\n",
       "      <th>4</th>\n",
       "      <td>M4T</td>\n",
       "      <td>Central Toronto</td>\n",
       "      <td>Moore Park,Summerhill East</td>\n",
       "      <td>43.689574</td>\n",
       "      <td>-79.383160</td>\n",
       "    </tr>\n",
       "  </tbody>\n",
       "</table>\n",
       "</div>"
      ],
      "text/plain": [
       "  Postal Code          Borough               Neighbourhood   Latitude  \\\n",
       "0         M4N  Central Toronto               Lawrence Park  43.728020   \n",
       "1         M4P  Central Toronto            Davisville North  43.712751   \n",
       "2         M4R  Central Toronto          North Toronto West  43.715383   \n",
       "3         M4S  Central Toronto                  Davisville  43.704324   \n",
       "4         M4T  Central Toronto  Moore Park,Summerhill East  43.689574   \n",
       "\n",
       "   Longitude  \n",
       "0 -79.388790  \n",
       "1 -79.390197  \n",
       "2 -79.405678  \n",
       "3 -79.388790  \n",
       "4 -79.383160  "
      ]
     },
     "execution_count": 165,
     "metadata": {},
     "output_type": "execute_result"
    }
   ],
   "source": [
    "tordf.head()"
   ]
  },
  {
   "cell_type": "code",
   "execution_count": 167,
   "metadata": {},
   "outputs": [
    {
     "name": "stdout",
     "output_type": "stream",
     "text": [
      "The geograpical coordinate of Toronto are 43.653963, -79.387207.\n"
     ]
    }
   ],
   "source": [
    "import folium\n",
    "from geopy.geocoders import Nominatim\n",
    "address = 'Central Toronto'\n",
    "\n",
    "geolocator = Nominatim(user_agent=\"ny_explorer\")\n",
    "location1 = geolocator.geocode(address)\n",
    "latitude1 = location.latitude\n",
    "longitude1 = location.longitude\n",
    "print('The geograpical coordinate of Toronto are {}, {}.'.format(latitude1, longitude1))\n",
    "\n",
    "\n"
   ]
  },
  {
   "cell_type": "code",
   "execution_count": 168,
   "metadata": {},
   "outputs": [
    {
     "data": {
      "text/html": [
       "<div style=\"width:100%;\"><div style=\"position:relative;width:100%;height:0;padding-bottom:60%;\"><iframe src=\"data:text/html;charset=utf-8;base64,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\" style=\"position:absolute;width:100%;height:100%;left:0;top:0;border:none !important;\" allowfullscreen webkitallowfullscreen mozallowfullscreen></iframe></div></div>"
      ],
      "text/plain": [
       "<folium.folium.Map at 0x20e8d756a58>"
      ]
     },
     "execution_count": 168,
     "metadata": {},
     "output_type": "execute_result"
    }
   ],
   "source": [
    "map_toronto = folium.Map(location=[latitude,longitude], zoom_start=10)\n",
    "tordf=tordf.dropna(subset=['Longitude'])\n",
    "tordf=tordf.dropna(subset=['Latitude'])\n",
    "# add markers to map\n",
    "for lat, lng, borough, neighborhood in zip(tordf['Latitude'], tordf['Longitude'], tordf['Borough'], tordf['Neighbourhood']):\n",
    "    label = '{}, {}'.format(neighborhood, borough)\n",
    "    label = folium.Popup(label, parse_html=True)\n",
    "    folium.CircleMarker(\n",
    "        [lat, lng],\n",
    "        radius=5,\n",
    "        popup=label,\n",
    "        color='blue',\n",
    "        fill=True,\n",
    "        fill_color='#3186cc',\n",
    "        fill_opacity=0.7,\n",
    "        parse_html=False).add_to(map_toronto)  \n",
    "    \n",
    "map_toronto"
   ]
  },
  {
   "cell_type": "code",
   "execution_count": 170,
   "metadata": {},
   "outputs": [
    {
     "data": {
      "text/plain": [
       "-79.3887901"
      ]
     },
     "execution_count": 170,
     "metadata": {},
     "output_type": "execute_result"
    }
   ],
   "source": [
    "tordf.loc[0,'Longitude']"
   ]
  },
  {
   "cell_type": "code",
   "execution_count": 171,
   "metadata": {},
   "outputs": [],
   "source": [
    "neighbourhood_latitude=tordf.loc[0,'Latitude']\n",
    "neighbourhood_longitude=tordf.loc[0,'Longitude']"
   ]
  },
  {
   "cell_type": "code",
   "execution_count": null,
   "metadata": {},
   "outputs": [],
   "source": []
  },
  {
   "cell_type": "code",
   "execution_count": 169,
   "metadata": {},
   "outputs": [],
   "source": [
    "CLIENT_ID='DRKAM5FSF35B5KQH4JOAAHQDM53J523UT5AP3JIPUX2AUT2O'\n",
    "CLIENT_SECRET='UX3HFQXWU4AP5MCWRBIHPPDQIRIVJDK0XWHVTLD1FENHOM1L'\n",
    "VERSION='2018605'"
   ]
  },
  {
   "cell_type": "code",
   "execution_count": 173,
   "metadata": {},
   "outputs": [],
   "source": [
    "LIMIT=300\n",
    "radius=500\n",
    "url='https://api.foursquare.com/v2/venues/search'.format(CLIENT_ID,CLIENT_SECRET,VERSION,neighbourhood_latitude,neighbourhood_longitude,radius,LIMIT)"
   ]
  },
  {
   "cell_type": "code",
   "execution_count": 175,
   "metadata": {},
   "outputs": [],
   "source": [
    "results=requests.get(url).json()"
   ]
  },
  {
   "cell_type": "code",
   "execution_count": 178,
   "metadata": {},
   "outputs": [],
   "source": [
    "def get_category_type(row):\n",
    "    try:\n",
    "        categories_list=row['categories']\n",
    "    except:\n",
    "        categories_list=row['venue.categories']\n",
    "    if len(categories_list) == 0:\n",
    "        return None\n",
    "    else:\n",
    "        return categories_list[0]['name']"
   ]
  },
  {
   "cell_type": "code",
   "execution_count": null,
   "metadata": {},
   "outputs": [],
   "source": [
    "venues=results['response']['groups'][0]['items']\n",
    "nearby_venues=json_normalize(venues)\n",
    "filtered"
   ]
  }
 ],
 "metadata": {
  "kernelspec": {
   "display_name": "Python 3",
   "language": "python",
   "name": "python3"
  },
  "language_info": {
   "codemirror_mode": {
    "name": "ipython",
    "version": 3
   },
   "file_extension": ".py",
   "mimetype": "text/x-python",
   "name": "python",
   "nbconvert_exporter": "python",
   "pygments_lexer": "ipython3",
   "version": "3.6.8"
  }
 },
 "nbformat": 4,
 "nbformat_minor": 2
}
