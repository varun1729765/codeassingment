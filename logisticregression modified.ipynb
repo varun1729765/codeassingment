{
 "cells": [
  {
   "cell_type": "code",
   "execution_count": 1,
   "metadata": {},
   "outputs": [],
   "source": [
    "import pandas as pd"
   ]
  },
  {
   "cell_type": "code",
   "execution_count": 2,
   "metadata": {},
   "outputs": [],
   "source": [
    "import numpy as np "
   ]
  },
  {
   "cell_type": "code",
   "execution_count": 3,
   "metadata": {},
   "outputs": [
    {
     "data": {
      "text/plain": [
       "{'the': 9,\n",
       " 'booking': 1,\n",
       " 'is': 5,\n",
       " 'not': 6,\n",
       " 'confirmed': 2,\n",
       " 'for': 4,\n",
       " 'first': 3,\n",
       " 'and': 0,\n",
       " 'second': 8,\n",
       " 'rejected': 7}"
      ]
     },
     "execution_count": 3,
     "metadata": {},
     "output_type": "execute_result"
    }
   ],
   "source": [
    "from sklearn.feature_extraction.text import CountVectorizer\n",
    "email_content=['The booking is not confirmed','The booking is confirmed for first booking and not confirmed for second booking','The booking is rejected'  ]\n",
    "count=CountVectorizer()\n",
    "bag=count.fit_transform(email_content)\n",
    "count.vocabulary_"
   ]
  },
  {
   "cell_type": "code",
   "execution_count": 4,
   "metadata": {},
   "outputs": [
    {
     "data": {
      "text/plain": [
       "array([[0, 1, 1, 0, 0, 1, 1, 0, 0, 1],\n",
       "       [1, 3, 2, 1, 2, 1, 1, 0, 1, 1],\n",
       "       [0, 1, 0, 0, 0, 1, 0, 1, 0, 1]], dtype=int64)"
      ]
     },
     "execution_count": 4,
     "metadata": {},
     "output_type": "execute_result"
    }
   ],
   "source": [
    "bag.toarray()"
   ]
  },
  {
   "cell_type": "code",
   "execution_count": 5,
   "metadata": {},
   "outputs": [
    {
     "data": {
      "text/plain": [
       "array([[0.  , 0.4 , 0.51, 0.  , 0.  , 0.4 , 0.51, 0.  , 0.  , 0.4 ],\n",
       "       [0.27, 0.48, 0.41, 0.27, 0.54, 0.16, 0.21, 0.  , 0.27, 0.16],\n",
       "       [0.  , 0.41, 0.  , 0.  , 0.  , 0.41, 0.  , 0.7 , 0.  , 0.41]])"
      ]
     },
     "execution_count": 5,
     "metadata": {},
     "output_type": "execute_result"
    }
   ],
   "source": [
    "import numpy as np\n",
    "from sklearn.feature_extraction.text import TfidfTransformer\n",
    "tfidf=TfidfTransformer(use_idf=True,norm='l2',smooth_idf=True)\n",
    "np.set_printoptions(precision=2)\n",
    "tfidf.fit_transform(bag).toarray()"
   ]
  },
  {
   "cell_type": "code",
   "execution_count": 6,
   "metadata": {},
   "outputs": [
    {
     "data": {
      "text/html": [
       "<div>\n",
       "<style scoped>\n",
       "    .dataframe tbody tr th:only-of-type {\n",
       "        vertical-align: middle;\n",
       "    }\n",
       "\n",
       "    .dataframe tbody tr th {\n",
       "        vertical-align: top;\n",
       "    }\n",
       "\n",
       "    .dataframe thead th {\n",
       "        text-align: right;\n",
       "    }\n",
       "</style>\n",
       "<table border=\"1\" class=\"dataframe\">\n",
       "  <thead>\n",
       "    <tr style=\"text-align: right;\">\n",
       "      <th></th>\n",
       "      <th>Text</th>\n",
       "      <th>Label</th>\n",
       "    </tr>\n",
       "  </thead>\n",
       "  <tbody>\n",
       "    <tr>\n",
       "      <th>0</th>\n",
       "      <td>The booking is confirmed</td>\n",
       "      <td>2</td>\n",
       "    </tr>\n",
       "    <tr>\n",
       "      <th>1</th>\n",
       "      <td>booking is not confirmed</td>\n",
       "      <td>0</td>\n",
       "    </tr>\n",
       "    <tr>\n",
       "      <th>2</th>\n",
       "      <td>booking is rejected</td>\n",
       "      <td>0</td>\n",
       "    </tr>\n",
       "    <tr>\n",
       "      <th>3</th>\n",
       "      <td>booking is accepted</td>\n",
       "      <td>2</td>\n",
       "    </tr>\n",
       "    <tr>\n",
       "      <th>4</th>\n",
       "      <td>accepted</td>\n",
       "      <td>2</td>\n",
       "    </tr>\n",
       "    <tr>\n",
       "      <th>5</th>\n",
       "      <td>no booking record found</td>\n",
       "      <td>0</td>\n",
       "    </tr>\n",
       "    <tr>\n",
       "      <th>6</th>\n",
       "      <td>no booking found</td>\n",
       "      <td>0</td>\n",
       "    </tr>\n",
       "    <tr>\n",
       "      <th>7</th>\n",
       "      <td>we are pleased to confirm this booking</td>\n",
       "      <td>2</td>\n",
       "    </tr>\n",
       "    <tr>\n",
       "      <th>8</th>\n",
       "      <td>we are sorry this booking is not found</td>\n",
       "      <td>0</td>\n",
       "    </tr>\n",
       "    <tr>\n",
       "      <th>9</th>\n",
       "      <td>sorry the booking is not found</td>\n",
       "      <td>0</td>\n",
       "    </tr>\n",
       "  </tbody>\n",
       "</table>\n",
       "</div>"
      ],
      "text/plain": [
       "                              Text          Label\n",
       "0                The booking is confirmed       2\n",
       "1                 booking is not confirmed      0\n",
       "2                      booking is rejected      0\n",
       "3                     booking is accepted       2\n",
       "4                                 accepted      2\n",
       "5                  no booking record found      0\n",
       "6                         no booking found      0\n",
       "7  we are pleased to confirm this booking       2\n",
       "8   we are sorry this booking is not found      0\n",
       "9           sorry the booking is not found      0"
      ]
     },
     "execution_count": 6,
     "metadata": {},
     "output_type": "execute_result"
    }
   ],
   "source": [
    "import pandas as pd \n",
    "train=pd.read_csv(r'C:\\Users\\Varun Kurup\\Documents\\testdatamodrnn.csv',encoding='latin_1')\n",
    "test=pd.read_csv(r'C:\\Users\\Varun Kurup\\Documents\\testdataset.csv',encoding='latin_1')\n",
    "train.head(10)"
   ]
  },
  {
   "cell_type": "code",
   "execution_count": 7,
   "metadata": {},
   "outputs": [
    {
     "data": {
      "text/plain": [
       "[('booking', 1247),\n",
       " ('is', 634),\n",
       " ('not', 498),\n",
       " ('', 493),\n",
       " ('found', 341),\n",
       " ('the', 330),\n",
       " ('confirmed', 288),\n",
       " ('no', 181),\n",
       " ('this', 166),\n",
       " ('we', 152),\n",
       " ('are', 148),\n",
       " ('record', 143),\n",
       " ('to', 138),\n",
       " ('in', 113),\n",
       " ('approved', 98),\n",
       " ('find', 97),\n",
       " ('accepted', 96),\n",
       " ('exists', 87),\n",
       " ('sorry', 86),\n",
       " ('rejected', 67)]"
      ]
     },
     "execution_count": 7,
     "metadata": {},
     "output_type": "execute_result"
    }
   ],
   "source": [
    "from collections import Counter\n",
    "vocab=Counter()\n",
    "for email_content in train.iloc[:,0]:\n",
    "    for word in email_content.split(' '):\n",
    "        vocab[word]+=1\n",
    "vocab.most_common(20)"
   ]
  },
  {
   "cell_type": "code",
   "execution_count": 8,
   "metadata": {},
   "outputs": [
    {
     "data": {
      "text/html": [
       "\n",
       "    <div class=\"bk-root\">\n",
       "        <a href=\"https://bokeh.pydata.org\" target=\"_blank\" class=\"bk-logo bk-logo-small bk-logo-notebook\"></a>\n",
       "        <span id=\"1001\">Loading BokehJS ...</span>\n",
       "    </div>"
      ]
     },
     "metadata": {},
     "output_type": "display_data"
    },
    {
     "data": {
      "application/javascript": [
       "\n",
       "(function(root) {\n",
       "  function now() {\n",
       "    return new Date();\n",
       "  }\n",
       "\n",
       "  var force = true;\n",
       "\n",
       "  if (typeof (root._bokeh_onload_callbacks) === \"undefined\" || force === true) {\n",
       "    root._bokeh_onload_callbacks = [];\n",
       "    root._bokeh_is_loading = undefined;\n",
       "  }\n",
       "\n",
       "  var JS_MIME_TYPE = 'application/javascript';\n",
       "  var HTML_MIME_TYPE = 'text/html';\n",
       "  var EXEC_MIME_TYPE = 'application/vnd.bokehjs_exec.v0+json';\n",
       "  var CLASS_NAME = 'output_bokeh rendered_html';\n",
       "\n",
       "  /**\n",
       "   * Render data to the DOM node\n",
       "   */\n",
       "  function render(props, node) {\n",
       "    var script = document.createElement(\"script\");\n",
       "    node.appendChild(script);\n",
       "  }\n",
       "\n",
       "  /**\n",
       "   * Handle when an output is cleared or removed\n",
       "   */\n",
       "  function handleClearOutput(event, handle) {\n",
       "    var cell = handle.cell;\n",
       "\n",
       "    var id = cell.output_area._bokeh_element_id;\n",
       "    var server_id = cell.output_area._bokeh_server_id;\n",
       "    // Clean up Bokeh references\n",
       "    if (id != null && id in Bokeh.index) {\n",
       "      Bokeh.index[id].model.document.clear();\n",
       "      delete Bokeh.index[id];\n",
       "    }\n",
       "\n",
       "    if (server_id !== undefined) {\n",
       "      // Clean up Bokeh references\n",
       "      var cmd = \"from bokeh.io.state import curstate; print(curstate().uuid_to_server['\" + server_id + \"'].get_sessions()[0].document.roots[0]._id)\";\n",
       "      cell.notebook.kernel.execute(cmd, {\n",
       "        iopub: {\n",
       "          output: function(msg) {\n",
       "            var id = msg.content.text.trim();\n",
       "            if (id in Bokeh.index) {\n",
       "              Bokeh.index[id].model.document.clear();\n",
       "              delete Bokeh.index[id];\n",
       "            }\n",
       "          }\n",
       "        }\n",
       "      });\n",
       "      // Destroy server and session\n",
       "      var cmd = \"import bokeh.io.notebook as ion; ion.destroy_server('\" + server_id + \"')\";\n",
       "      cell.notebook.kernel.execute(cmd);\n",
       "    }\n",
       "  }\n",
       "\n",
       "  /**\n",
       "   * Handle when a new output is added\n",
       "   */\n",
       "  function handleAddOutput(event, handle) {\n",
       "    var output_area = handle.output_area;\n",
       "    var output = handle.output;\n",
       "\n",
       "    // limit handleAddOutput to display_data with EXEC_MIME_TYPE content only\n",
       "    if ((output.output_type != \"display_data\") || (!output.data.hasOwnProperty(EXEC_MIME_TYPE))) {\n",
       "      return\n",
       "    }\n",
       "\n",
       "    var toinsert = output_area.element.find(\".\" + CLASS_NAME.split(' ')[0]);\n",
       "\n",
       "    if (output.metadata[EXEC_MIME_TYPE][\"id\"] !== undefined) {\n",
       "      toinsert[toinsert.length - 1].firstChild.textContent = output.data[JS_MIME_TYPE];\n",
       "      // store reference to embed id on output_area\n",
       "      output_area._bokeh_element_id = output.metadata[EXEC_MIME_TYPE][\"id\"];\n",
       "    }\n",
       "    if (output.metadata[EXEC_MIME_TYPE][\"server_id\"] !== undefined) {\n",
       "      var bk_div = document.createElement(\"div\");\n",
       "      bk_div.innerHTML = output.data[HTML_MIME_TYPE];\n",
       "      var script_attrs = bk_div.children[0].attributes;\n",
       "      for (var i = 0; i < script_attrs.length; i++) {\n",
       "        toinsert[toinsert.length - 1].firstChild.setAttribute(script_attrs[i].name, script_attrs[i].value);\n",
       "      }\n",
       "      // store reference to server id on output_area\n",
       "      output_area._bokeh_server_id = output.metadata[EXEC_MIME_TYPE][\"server_id\"];\n",
       "    }\n",
       "  }\n",
       "\n",
       "  function register_renderer(events, OutputArea) {\n",
       "\n",
       "    function append_mime(data, metadata, element) {\n",
       "      // create a DOM node to render to\n",
       "      var toinsert = this.create_output_subarea(\n",
       "        metadata,\n",
       "        CLASS_NAME,\n",
       "        EXEC_MIME_TYPE\n",
       "      );\n",
       "      this.keyboard_manager.register_events(toinsert);\n",
       "      // Render to node\n",
       "      var props = {data: data, metadata: metadata[EXEC_MIME_TYPE]};\n",
       "      render(props, toinsert[toinsert.length - 1]);\n",
       "      element.append(toinsert);\n",
       "      return toinsert\n",
       "    }\n",
       "\n",
       "    /* Handle when an output is cleared or removed */\n",
       "    events.on('clear_output.CodeCell', handleClearOutput);\n",
       "    events.on('delete.Cell', handleClearOutput);\n",
       "\n",
       "    /* Handle when a new output is added */\n",
       "    events.on('output_added.OutputArea', handleAddOutput);\n",
       "\n",
       "    /**\n",
       "     * Register the mime type and append_mime function with output_area\n",
       "     */\n",
       "    OutputArea.prototype.register_mime_type(EXEC_MIME_TYPE, append_mime, {\n",
       "      /* Is output safe? */\n",
       "      safe: true,\n",
       "      /* Index of renderer in `output_area.display_order` */\n",
       "      index: 0\n",
       "    });\n",
       "  }\n",
       "\n",
       "  // register the mime type if in Jupyter Notebook environment and previously unregistered\n",
       "  if (root.Jupyter !== undefined) {\n",
       "    var events = require('base/js/events');\n",
       "    var OutputArea = require('notebook/js/outputarea').OutputArea;\n",
       "\n",
       "    if (OutputArea.prototype.mime_types().indexOf(EXEC_MIME_TYPE) == -1) {\n",
       "      register_renderer(events, OutputArea);\n",
       "    }\n",
       "  }\n",
       "\n",
       "  \n",
       "  if (typeof (root._bokeh_timeout) === \"undefined\" || force === true) {\n",
       "    root._bokeh_timeout = Date.now() + 5000;\n",
       "    root._bokeh_failed_load = false;\n",
       "  }\n",
       "\n",
       "  var NB_LOAD_WARNING = {'data': {'text/html':\n",
       "     \"<div style='background-color: #fdd'>\\n\"+\n",
       "     \"<p>\\n\"+\n",
       "     \"BokehJS does not appear to have successfully loaded. If loading BokehJS from CDN, this \\n\"+\n",
       "     \"may be due to a slow or bad network connection. Possible fixes:\\n\"+\n",
       "     \"</p>\\n\"+\n",
       "     \"<ul>\\n\"+\n",
       "     \"<li>re-rerun `output_notebook()` to attempt to load from CDN again, or</li>\\n\"+\n",
       "     \"<li>use INLINE resources instead, as so:</li>\\n\"+\n",
       "     \"</ul>\\n\"+\n",
       "     \"<code>\\n\"+\n",
       "     \"from bokeh.resources import INLINE\\n\"+\n",
       "     \"output_notebook(resources=INLINE)\\n\"+\n",
       "     \"</code>\\n\"+\n",
       "     \"</div>\"}};\n",
       "\n",
       "  function display_loaded() {\n",
       "    var el = document.getElementById(\"1001\");\n",
       "    if (el != null) {\n",
       "      el.textContent = \"BokehJS is loading...\";\n",
       "    }\n",
       "    if (root.Bokeh !== undefined) {\n",
       "      if (el != null) {\n",
       "        el.textContent = \"BokehJS \" + root.Bokeh.version + \" successfully loaded.\";\n",
       "      }\n",
       "    } else if (Date.now() < root._bokeh_timeout) {\n",
       "      setTimeout(display_loaded, 100)\n",
       "    }\n",
       "  }\n",
       "\n",
       "\n",
       "  function run_callbacks() {\n",
       "    try {\n",
       "      root._bokeh_onload_callbacks.forEach(function(callback) { callback() });\n",
       "    }\n",
       "    finally {\n",
       "      delete root._bokeh_onload_callbacks\n",
       "    }\n",
       "    console.info(\"Bokeh: all callbacks have finished\");\n",
       "  }\n",
       "\n",
       "  function load_libs(js_urls, callback) {\n",
       "    root._bokeh_onload_callbacks.push(callback);\n",
       "    if (root._bokeh_is_loading > 0) {\n",
       "      console.log(\"Bokeh: BokehJS is being loaded, scheduling callback at\", now());\n",
       "      return null;\n",
       "    }\n",
       "    if (js_urls == null || js_urls.length === 0) {\n",
       "      run_callbacks();\n",
       "      return null;\n",
       "    }\n",
       "    console.log(\"Bokeh: BokehJS not loaded, scheduling load and callback at\", now());\n",
       "    root._bokeh_is_loading = js_urls.length;\n",
       "    for (var i = 0; i < js_urls.length; i++) {\n",
       "      var url = js_urls[i];\n",
       "      var s = document.createElement('script');\n",
       "      s.src = url;\n",
       "      s.async = false;\n",
       "      s.onreadystatechange = s.onload = function() {\n",
       "        root._bokeh_is_loading--;\n",
       "        if (root._bokeh_is_loading === 0) {\n",
       "          console.log(\"Bokeh: all BokehJS libraries loaded\");\n",
       "          run_callbacks()\n",
       "        }\n",
       "      };\n",
       "      s.onerror = function() {\n",
       "        console.warn(\"failed to load library \" + url);\n",
       "      };\n",
       "      console.log(\"Bokeh: injecting script tag for BokehJS library: \", url);\n",
       "      document.getElementsByTagName(\"head\")[0].appendChild(s);\n",
       "    }\n",
       "  };var element = document.getElementById(\"1001\");\n",
       "  if (element == null) {\n",
       "    console.log(\"Bokeh: ERROR: autoload.js configured with elementid '1001' but no matching script tag was found. \")\n",
       "    return false;\n",
       "  }\n",
       "\n",
       "  var js_urls = [\"https://cdn.pydata.org/bokeh/release/bokeh-1.0.4.min.js\", \"https://cdn.pydata.org/bokeh/release/bokeh-widgets-1.0.4.min.js\", \"https://cdn.pydata.org/bokeh/release/bokeh-tables-1.0.4.min.js\", \"https://cdn.pydata.org/bokeh/release/bokeh-gl-1.0.4.min.js\"];\n",
       "\n",
       "  var inline_js = [\n",
       "    function(Bokeh) {\n",
       "      Bokeh.set_log_level(\"info\");\n",
       "    },\n",
       "    \n",
       "    function(Bokeh) {\n",
       "      \n",
       "    },\n",
       "    function(Bokeh) {\n",
       "      console.log(\"Bokeh: injecting CSS: https://cdn.pydata.org/bokeh/release/bokeh-1.0.4.min.css\");\n",
       "      Bokeh.embed.inject_css(\"https://cdn.pydata.org/bokeh/release/bokeh-1.0.4.min.css\");\n",
       "      console.log(\"Bokeh: injecting CSS: https://cdn.pydata.org/bokeh/release/bokeh-widgets-1.0.4.min.css\");\n",
       "      Bokeh.embed.inject_css(\"https://cdn.pydata.org/bokeh/release/bokeh-widgets-1.0.4.min.css\");\n",
       "      console.log(\"Bokeh: injecting CSS: https://cdn.pydata.org/bokeh/release/bokeh-tables-1.0.4.min.css\");\n",
       "      Bokeh.embed.inject_css(\"https://cdn.pydata.org/bokeh/release/bokeh-tables-1.0.4.min.css\");\n",
       "    }\n",
       "  ];\n",
       "\n",
       "  function run_inline_js() {\n",
       "    \n",
       "    if ((root.Bokeh !== undefined) || (force === true)) {\n",
       "      for (var i = 0; i < inline_js.length; i++) {\n",
       "        inline_js[i].call(root, root.Bokeh);\n",
       "      }if (force === true) {\n",
       "        display_loaded();\n",
       "      }} else if (Date.now() < root._bokeh_timeout) {\n",
       "      setTimeout(run_inline_js, 100);\n",
       "    } else if (!root._bokeh_failed_load) {\n",
       "      console.log(\"Bokeh: BokehJS failed to load within specified timeout.\");\n",
       "      root._bokeh_failed_load = true;\n",
       "    } else if (force !== true) {\n",
       "      var cell = $(document.getElementById(\"1001\")).parents('.cell').data().cell;\n",
       "      cell.output_area.append_execute_result(NB_LOAD_WARNING)\n",
       "    }\n",
       "\n",
       "  }\n",
       "\n",
       "  if (root._bokeh_is_loading === 0) {\n",
       "    console.log(\"Bokeh: BokehJS loaded, going straight to plotting\");\n",
       "    run_inline_js();\n",
       "  } else {\n",
       "    load_libs(js_urls, function() {\n",
       "      console.log(\"Bokeh: BokehJS plotting callback run at\", now());\n",
       "      run_inline_js();\n",
       "    });\n",
       "  }\n",
       "}(window));"
      ],
      "application/vnd.bokehjs_load.v0+json": "\n(function(root) {\n  function now() {\n    return new Date();\n  }\n\n  var force = true;\n\n  if (typeof (root._bokeh_onload_callbacks) === \"undefined\" || force === true) {\n    root._bokeh_onload_callbacks = [];\n    root._bokeh_is_loading = undefined;\n  }\n\n  \n\n  \n  if (typeof (root._bokeh_timeout) === \"undefined\" || force === true) {\n    root._bokeh_timeout = Date.now() + 5000;\n    root._bokeh_failed_load = false;\n  }\n\n  var NB_LOAD_WARNING = {'data': {'text/html':\n     \"<div style='background-color: #fdd'>\\n\"+\n     \"<p>\\n\"+\n     \"BokehJS does not appear to have successfully loaded. If loading BokehJS from CDN, this \\n\"+\n     \"may be due to a slow or bad network connection. Possible fixes:\\n\"+\n     \"</p>\\n\"+\n     \"<ul>\\n\"+\n     \"<li>re-rerun `output_notebook()` to attempt to load from CDN again, or</li>\\n\"+\n     \"<li>use INLINE resources instead, as so:</li>\\n\"+\n     \"</ul>\\n\"+\n     \"<code>\\n\"+\n     \"from bokeh.resources import INLINE\\n\"+\n     \"output_notebook(resources=INLINE)\\n\"+\n     \"</code>\\n\"+\n     \"</div>\"}};\n\n  function display_loaded() {\n    var el = document.getElementById(\"1001\");\n    if (el != null) {\n      el.textContent = \"BokehJS is loading...\";\n    }\n    if (root.Bokeh !== undefined) {\n      if (el != null) {\n        el.textContent = \"BokehJS \" + root.Bokeh.version + \" successfully loaded.\";\n      }\n    } else if (Date.now() < root._bokeh_timeout) {\n      setTimeout(display_loaded, 100)\n    }\n  }\n\n\n  function run_callbacks() {\n    try {\n      root._bokeh_onload_callbacks.forEach(function(callback) { callback() });\n    }\n    finally {\n      delete root._bokeh_onload_callbacks\n    }\n    console.info(\"Bokeh: all callbacks have finished\");\n  }\n\n  function load_libs(js_urls, callback) {\n    root._bokeh_onload_callbacks.push(callback);\n    if (root._bokeh_is_loading > 0) {\n      console.log(\"Bokeh: BokehJS is being loaded, scheduling callback at\", now());\n      return null;\n    }\n    if (js_urls == null || js_urls.length === 0) {\n      run_callbacks();\n      return null;\n    }\n    console.log(\"Bokeh: BokehJS not loaded, scheduling load and callback at\", now());\n    root._bokeh_is_loading = js_urls.length;\n    for (var i = 0; i < js_urls.length; i++) {\n      var url = js_urls[i];\n      var s = document.createElement('script');\n      s.src = url;\n      s.async = false;\n      s.onreadystatechange = s.onload = function() {\n        root._bokeh_is_loading--;\n        if (root._bokeh_is_loading === 0) {\n          console.log(\"Bokeh: all BokehJS libraries loaded\");\n          run_callbacks()\n        }\n      };\n      s.onerror = function() {\n        console.warn(\"failed to load library \" + url);\n      };\n      console.log(\"Bokeh: injecting script tag for BokehJS library: \", url);\n      document.getElementsByTagName(\"head\")[0].appendChild(s);\n    }\n  };var element = document.getElementById(\"1001\");\n  if (element == null) {\n    console.log(\"Bokeh: ERROR: autoload.js configured with elementid '1001' but no matching script tag was found. \")\n    return false;\n  }\n\n  var js_urls = [\"https://cdn.pydata.org/bokeh/release/bokeh-1.0.4.min.js\", \"https://cdn.pydata.org/bokeh/release/bokeh-widgets-1.0.4.min.js\", \"https://cdn.pydata.org/bokeh/release/bokeh-tables-1.0.4.min.js\", \"https://cdn.pydata.org/bokeh/release/bokeh-gl-1.0.4.min.js\"];\n\n  var inline_js = [\n    function(Bokeh) {\n      Bokeh.set_log_level(\"info\");\n    },\n    \n    function(Bokeh) {\n      \n    },\n    function(Bokeh) {\n      console.log(\"Bokeh: injecting CSS: https://cdn.pydata.org/bokeh/release/bokeh-1.0.4.min.css\");\n      Bokeh.embed.inject_css(\"https://cdn.pydata.org/bokeh/release/bokeh-1.0.4.min.css\");\n      console.log(\"Bokeh: injecting CSS: https://cdn.pydata.org/bokeh/release/bokeh-widgets-1.0.4.min.css\");\n      Bokeh.embed.inject_css(\"https://cdn.pydata.org/bokeh/release/bokeh-widgets-1.0.4.min.css\");\n      console.log(\"Bokeh: injecting CSS: https://cdn.pydata.org/bokeh/release/bokeh-tables-1.0.4.min.css\");\n      Bokeh.embed.inject_css(\"https://cdn.pydata.org/bokeh/release/bokeh-tables-1.0.4.min.css\");\n    }\n  ];\n\n  function run_inline_js() {\n    \n    if ((root.Bokeh !== undefined) || (force === true)) {\n      for (var i = 0; i < inline_js.length; i++) {\n        inline_js[i].call(root, root.Bokeh);\n      }if (force === true) {\n        display_loaded();\n      }} else if (Date.now() < root._bokeh_timeout) {\n      setTimeout(run_inline_js, 100);\n    } else if (!root._bokeh_failed_load) {\n      console.log(\"Bokeh: BokehJS failed to load within specified timeout.\");\n      root._bokeh_failed_load = true;\n    } else if (force !== true) {\n      var cell = $(document.getElementById(\"1001\")).parents('.cell').data().cell;\n      cell.output_area.append_execute_result(NB_LOAD_WARNING)\n    }\n\n  }\n\n  if (root._bokeh_is_loading === 0) {\n    console.log(\"Bokeh: BokehJS loaded, going straight to plotting\");\n    run_inline_js();\n  } else {\n    load_libs(js_urls, function() {\n      console.log(\"Bokeh: BokehJS plotting callback run at\", now());\n      run_inline_js();\n    });\n  }\n}(window));"
     },
     "metadata": {},
     "output_type": "display_data"
    }
   ],
   "source": [
    "from bokeh.models import ColumnDataSource,LabelSet\n",
    "from bokeh.plotting import figure,show,output_file\n",
    "from bokeh.io import output_notebook\n",
    "output_notebook()"
   ]
  },
  {
   "cell_type": "code",
   "execution_count": 9,
   "metadata": {},
   "outputs": [
    {
     "data": {
      "text/html": [
       "\n",
       "\n",
       "\n",
       "\n",
       "\n",
       "\n",
       "  <div class=\"bk-root\" id=\"fd302257-fbc1-4458-bbfa-5902f1cf6074\" data-root-id=\"1003\"></div>\n"
      ]
     },
     "metadata": {},
     "output_type": "display_data"
    },
    {
     "data": {
      "application/javascript": [
       "(function(root) {\n",
       "  function embed_document(root) {\n",
       "    \n",
       "  var docs_json = {\"7d7699d0-dd53-4e89-890b-7fea2fec6697\":{\"roots\":{\"references\":[{\"attributes\":{\"below\":[{\"id\":\"1013\",\"type\":\"LinearAxis\"}],\"left\":[{\"id\":\"1018\",\"type\":\"LinearAxis\"}],\"renderers\":[{\"id\":\"1013\",\"type\":\"LinearAxis\"},{\"id\":\"1017\",\"type\":\"Grid\"},{\"id\":\"1018\",\"type\":\"LinearAxis\"},{\"id\":\"1022\",\"type\":\"Grid\"},{\"id\":\"1035\",\"type\":\"GlyphRenderer\"}],\"title\":{\"id\":\"1002\",\"type\":\"Title\"},\"toolbar\":{\"id\":\"1027\",\"type\":\"Toolbar\"},\"toolbar_location\":\"above\",\"x_range\":{\"id\":\"1005\",\"type\":\"DataRange1d\"},\"x_scale\":{\"id\":\"1009\",\"type\":\"LinearScale\"},\"y_range\":{\"id\":\"1007\",\"type\":\"DataRange1d\"},\"y_scale\":{\"id\":\"1011\",\"type\":\"LinearScale\"}},\"id\":\"1003\",\"subtype\":\"Figure\",\"type\":\"Plot\"},{\"attributes\":{},\"id\":\"1023\",\"type\":\"PanTool\"},{\"attributes\":{\"callback\":null,\"data\":{\"left\":{\"__ndarray__\":\"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\",\"dtype\":\"float64\",\"shape\":[500]},\"right\":{\"__ndarray__\":\"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\",\"dtype\":\"float64\",\"shape\":[500]},\"top\":{\"__ndarray__\":\"sS4ao6YpOUAAAAAAAAAAAAAAAAAAAAAAAAAAAAAAAAAAAAAAAAAAAAAAAAAAAAAAAAAAAAAAAAAAAAAAAAAAAAAAAAAAAAAAAAAAAAAAAAAAAAAAAAAAAAAAAAAAAAAAAAAAAAAAAAAAAAAAAAAAAAAAAAAAAAAAAAAAAAAAAAAAAAAAAAAAAAAAAAAAAAAAAAAAAAAAAAAAAAAAAAAAAAAAAAAAAAAAAAAAAAAAAAAAAAAAAAAAAAAAAAAAAAAAAAAAAAAAAAAAAAAAAAAAAAAAAAAAAAAAAAAAAAAAAAAAAAAAAAAAAAAAAAAAAAAAAAAAAAAAAAAAAAAAAAAAAAAAAAAAAAAAAAAAAAAAAAAAAAAAAAAAAAAAAAAAAAAAAAAAAAAAAAAAAAAAAAAAAAAAAAAAAAAAAAAAAAAAAAAAAAAAAAAAAAAAAAAAAAAAAAAAAAAAAAAAAAAAAAAAAAAAAAAAAAAAAAAAAAAAAAAAAAAAAAAAAAAAAAAAAAAA21OS2CedIUAAAAAAAAAAAAAAAAAAAAAAAAAAAAAAAAAAAAAAAAAAAAAAAAAAAAAAAAAAAAAAAAAAAAAAAAAAAAAAAAAAAAAAAAAAAAAAAAAAAAAAAAAAAAAAAAAAAAAAAAAAAAAAAAAAAAAAAAAAAAAAAAAAAAAAAAAAAAAAAAAAAAAAAAAAAAAAAAAAAAAAAAAAAAAAAAAAAAAAAAAAAAAAAAAAAAAAAAAAAAAAAAAAAAAAAAAAAAAAAAAAAAAAAAAAAAAAAAAAAAAAAAAAAAAAAAAAAAAAAAAAAAAAAAAAAAAAAAAAADCQl198pRZAAAAAAAAAAAAAAAAAAAAAAAAAAAAAAAAAAAAAAAAAAAAAAAAAAAAAAAAAAAAAAAAAAAAAAAAAAAAAAAAAAAAAAAAAAAAAAAAAAAAAAAAAAAAAAAAAAAAAAAAAAAAAAAAAAAAAAAAAAAAAAAAAAAAAAAAAAAAAAAAAAAAAAAAAAAAAAAAAAAAAAAAAAAAAAAAAAAAAAAAAAAC0U5LYJ50RQAAAAAAAAAAAAAAAAAAAAAAAAAAAAAAAAAAAAAAAAAAAAAAAAAAAAAAAAAAAAAAAAAAAAAAAAAAAAAAAAAAAAAAAAAAAAAAAAAAAAAAAAAAAAAAAAAAAAAAAAAAAAAAAAAAAAAAAAAAAAAAAAAAAAADcBNG2ElsQQAAAAAAAAAAAAAAAAAAAAAAAAAAAAAAAAAAAAAAAAAAAAAAAAAAAAAAAAAAAAAAAAAAAAAAAAAAAAAAAAAAAAAAAAAAAAAAAAAAAAAAAAAAAAAAAAAAAAAAAAAAAAAAAAEvyFBxSIfQ/AAAAAAAAAAAAAAAAAAAAAAAAAAAAAAAAAAAAAAAAAAAAAAAAAAAAAAAAAAAAAAAAAAAAAAAAAAAAAAAAAAAAAAAAAAAAAAAAAAAAAAAAAADy8RQcUiH0PwAAAAAAAAAAAAAAAAAAAAAAAAAAAAAAAAAAAAAAAAAAAAAAAAAAAAAAAAAAAAAAAAAAAAAAAAAAAAAAAAAAAADy8RQcUiHkPwAAAAAAAAAAAAAAAAAAAAAAAAAAAAAAAAAAAAAAAAAAAAAAAAAAAAAAAAAAAAAAAAAAAAAAAAAAAAAAAAAAAADy8RQcUiHkPwAAAAAAAAAAAAAAAAAAAAAAAAAAAAAAAAAAAAAAAAAAAAAAAAAAAAAAAAAAAAAAAOtqHyr7Me4/AAAAAAAAAAAAAAAAAAAAAAAAAAAAAAAAAAAAAAAAAAAAAAAAAAAAAAAAAAAAAAAA8vEUHFIh1D8AAAAAAAAAAAAAAAAAAAAAAAAAAAAAAAAAAAAAAAAAAAAAAAAAAAAA8vEUHFIh1D8AAAAAAAAAAAAAAAAAAAAAAAAAAAAAAAAAAAAAAAAAAAAAAAAAAAAAAAAAAAAAAAAAAAAAAAAAAAAAAAAAAAAAAAAAAAAAAAAAAAAAAAAAAPLxFBxSIdQ/AAAAAAAAAAAAAAAAAAAAAAAAAAAAAAAAAAAAAAAAAAAAAAAAAAAAAAAAAAAAAAAAAAAAAAAAAAAAAAAAAAAAAPLxFBxSIQRAAAAAAAAAAAAAAAAAAAAAAAAAAAAAAAAA8vEUHFIh1D8AAAAAAAAAAAAAAAAAAAAAAAAAAAAAAADy8RQcUiHUPwAAAAAAAAAAAAAAAAAAAAAAAAAAAAAAAPLxFBxSIeQ/AAAAAAAAAAAAAAAAAAAAAAAAAAAAAAAAo/IUHFIh1D8AAAAAAAAAAAAAAAAAAAAAAAAAAAAAAAAAAAAAAAAAAAAAAAAAAAAA8vEUHFIh1D8AAAAAAAAAAAAAAAAAAAAAAAAAAAAAAAAAAAAAAAAAAAAAAAAAAAAAAAAAAAAAAAAAAAAAAAAAAAAAAAAAAAAAAAAAAAAAAAAAAAAAAAAAAAAAAAAAAAAA62ofKvsx7j8AAAAAAAAAAAAAAAAAAAAAAAAAAAAAAAAAAAAAAAAAAAAAAAAAAAAAAAAAAAAAAAAAAAAAAAAAAPLxFBxSIdQ/AAAAAAAAAAAAAAAAAAAAAAAAAAAAAAAAAAAAAAAAAAAAAAAAAAAAAAAAAAAAAAAA8vEUHFIh9D8AAAAAAAAAAAAAAAAAAAAAAAAAAAAAAAAAAAAAAAAAAAAAAAAAAAAAAAAAAAAAAAAAAAAAAAAAAAAAAAAAAAAAAAAAAAAAAAAAAAAAAAAAAAAAAAAAAAAAAAAAAAAAAAAAAAAAAAAAAAAAAAAAAAAA8vEUHFIh1D8AAAAAAAAAAAAAAAAAAAAAAAAAAAAAAAAAAAAAAAAAAAAAAAAAAAAAAAAAAAAAAADy8RQcUiHUPwAAAAAAAAAAAAAAAAAAAAAAAAAAAAAAAAAAAAAAAAAAAAAAAAAAAACj8hQcUiHUP/LxFBxSIdQ/AAAAAAAAAACj8hQcUiHUPwAAAAAAAAAAAAAAAAAAAACj8hQcUiHUPwAAAAAAAAAAAAAAAAAAAAAAAAAAAAAAAAAAAAAAAAAAAAAAAAAAAAAAAAAAAAAAAKPyFBxSIdQ/AAAAAAAAAAAAAAAAAAAAAAAAAAAAAAAAAAAAAAAAAAAAAAAAAAAAAAAAAAAAAAAAQfEUHFIh1D+j8hQcUiHUP6PyFBxSIdQ/QfEUHFIh1D8AAAAAAAAAAAAAAAAAAAAAAAAAAAAAAAAAAAAAAAAAAAAAAAAAAAAAAAAAAAAAAAAAAAAAAAAAAAAAAAAAAAAAAAAAAAAAAAAAAAAAAAAAAAAAAAAAAAAAAAAAAAAAAAAAAAAAAAAAAAAAAAAAAAAAAAAAAAAAAAAAAAAAAAAAAAAAAAAAAAAAo/IUHFIh1D+j8hQcUiHUPwAAAAAAAAAAAAAAAAAAAAAAAAAAAAAAAAAAAAAAAAAAAAAAAAAAAAAAAAAAAAAAAEHxFBxSIeQ/o/IUHFIh1D8AAAAAAAAAAAAAAAAAAAAAAAAAAAAAAAAAAAAAAAAAAAAAAAAAAAAAAAAAAAAAAAAAAAAAAAAAAAAAAAAAAAAAAAAAAAAAAABB8RQcUiHUPwAAAAAAAAAAAAAAAAAAAAAAAAAAAAAAAAAAAAAAAAAAAAAAAAAAAAAAAAAAAAAAAAAAAAAAAAAAAAAAAAAAAAAAAAAAAAAAAAAAAAAAAAAAAAAAAAAAAAAAAAAAAAAAAAAAAAAAAAAAQfEUHFIh1D8AAAAAAAAAAAAAAAAAAAAAQfEUHFIh1D8AAAAAAAAAAKPyFBxSIdQ/AAAAAAAAAACj8hQcUiHUPwAAAAAAAAAAAAAAAAAAAAAAAAAAAAAAAAAAAAAAAAAAAAAAAAAAAACj8hQcUiHUPwAAAAAAAAAAAAAAAAAAAAAAAAAAAAAAAAAAAAAAAAAAAAAAAAAAAACj8hQcUiHUPwAAAAAAAAAAAAAAAAAAAAAAAAAAAAAAAAAAAAAAAAAAAAAAAAAAAAAAAAAAAAAAAAAAAAAAAAAAAAAAAAAAAAAAAAAAAAAAAAAAAAAAAAAAAAAAAAAAAAAAAAAAAAAAAAAAAAAAAAAAAAAAAAAAAAAAAAAAAAAAAAAAAAAAAAAAAAAAAAAAAAAAAAAAAAAAAAAAAAAAAAAAAAAAAAAAAAAAAAAAAAAAAAAAAAAAAAAAAAAAAAAAAAAAAAAAAAAAAAAAAAAAAAAAAAAAAAAAAAAAAAAAAAAAAAAAAAAAAAAAAAAAAAAAAAAAAAAAAAAAAAAAAAAAAAAAAAAAAAAAAACj8hQcUiHUPwAAAAAAAAAAAAAAAAAAAAAAAAAAAAAAAAAAAAAAAAAAAAAAAAAAAAAAAAAAAAAAAAAAAAAAAAAAAAAAAAAAAACj8hQcUiHUPwAAAAAAAAAAAAAAAAAAAACj8hQcUiHUPwAAAAAAAAAAAAAAAAAAAAAAAAAAAAAAAAAAAAAAAAAAAAAAAAAAAAAAAAAAAAAAAAAAAAAAAAAAAAAAAAAAAAAAAAAAAAAAAAAAAAAAAAAAAAAAAAAAAAAAAAAAAAAAAAAAAAAAAAAAAAAAAAAAAAAAAAAAAAAAAAAAAAAAAAAAAAAAAAAAAAAAAAAAAAAAAAAAAAAAAAAAAAAAAAAAAAAAAAAAAAAAAAAAAAAAAAAAAAAAAAAAAAAAAAAAAAAAAKPyFBxSIdQ/o/IUHFIh1D8AAAAAAAAAAAAAAAAAAAAAAAAAAAAAAAAAAAAAAAAAAAAAAAAAAAAAAAAAAAAAAAAAAAAAAAAAAAAAAAAAAAAAAAAAAAAAAAAAAAAAAAAAAAAAAAAAAAAAAAAAAAAAAAAAAAAAAAAAAAAAAAAAAAAAAAAAAAAAAAAAAAAAAAAAAKPyFBxSIdQ/AAAAAAAAAAAAAAAAAAAAAAAAAAAAAAAAAAAAAAAAAAAAAAAAAAAAAAAAAAAAAAAAAAAAAAAAAAAAAAAAAAAAAAAAAAAAAAAAAAAAAAAAAAAAAAAAAAAAAAAAAAAAAAAAAAAAAAAAAAAAAAAAAAAAAAAAAAAAAAAAAAAAAAAAAAAAAAAAAAAAAAAAAAAAAAAAAAAAAAAAAAAAAAAAAAAAAAAAAAAAAAAAAAAAAAAAAAAAAAAAAAAAAAAAAAAAAAAAAAAAAAAAAAAAAAAAAAAAAAAAAAAAAAAAAAAAAAAAAAAAAAAAAAAAAAAAAAAAAAAAAAAAAAAAAAAAAAAAAAAAAAAAAAAAAAAAAAAAAAAAAAAAAAAAAAAAAAAAAAAAAAAAAAAAAAAAAAAAAAAAAAAAAAAAAAAAAAAAAAAAAAAAAAAAAAAAAAAAAAAAAAAAAAAAAAAAAAAAAAAAAAAAAAAAAAAAAAAAAAAAAAAAAAAAAABB8RQcUiHUPw==\",\"dtype\":\"float64\",\"shape\":[500]}},\"selected\":{\"id\":\"1043\",\"type\":\"Selection\"},\"selection_policy\":{\"id\":\"1042\",\"type\":\"UnionRenderers\"}},\"id\":\"1032\",\"type\":\"ColumnDataSource\"},{\"attributes\":{\"bottom\":{\"value\":0},\"fill_color\":{\"value\":\"#1f77b4\"},\"left\":{\"field\":\"left\"},\"line_color\":{\"value\":\"#555555\"},\"right\":{\"field\":\"right\"},\"top\":{\"field\":\"top\"}},\"id\":\"1033\",\"type\":\"Quad\"},{\"attributes\":{\"source\":{\"id\":\"1032\",\"type\":\"ColumnDataSource\"}},\"id\":\"1036\",\"type\":\"CDSView\"},{\"attributes\":{},\"id\":\"1024\",\"type\":\"WheelZoomTool\"},{\"attributes\":{\"plot\":null,\"text\":\"Word distribution accross all emails\"},\"id\":\"1002\",\"type\":\"Title\"},{\"attributes\":{},\"id\":\"1025\",\"type\":\"ResetTool\"},{\"attributes\":{},\"id\":\"1026\",\"type\":\"SaveTool\"},{\"attributes\":{\"active_drag\":\"auto\",\"active_inspect\":\"auto\",\"active_multi\":null,\"active_scroll\":\"auto\",\"active_tap\":\"auto\",\"tools\":[{\"id\":\"1023\",\"type\":\"PanTool\"},{\"id\":\"1024\",\"type\":\"WheelZoomTool\"},{\"id\":\"1025\",\"type\":\"ResetTool\"},{\"id\":\"1026\",\"type\":\"SaveTool\"}]},\"id\":\"1027\",\"type\":\"Toolbar\"},{\"attributes\":{\"bottom\":{\"value\":0},\"fill_alpha\":{\"value\":0.1},\"fill_color\":{\"value\":\"#1f77b4\"},\"left\":{\"field\":\"left\"},\"line_alpha\":{\"value\":0.1},\"line_color\":{\"value\":\"#1f77b4\"},\"right\":{\"field\":\"right\"},\"top\":{\"field\":\"top\"}},\"id\":\"1034\",\"type\":\"Quad\"},{\"attributes\":{\"callback\":null},\"id\":\"1005\",\"type\":\"DataRange1d\"},{\"attributes\":{\"callback\":null},\"id\":\"1007\",\"type\":\"DataRange1d\"},{\"attributes\":{},\"id\":\"1039\",\"type\":\"BasicTickFormatter\"},{\"attributes\":{},\"id\":\"1009\",\"type\":\"LinearScale\"},{\"attributes\":{\"data_source\":{\"id\":\"1032\",\"type\":\"ColumnDataSource\"},\"glyph\":{\"id\":\"1033\",\"type\":\"Quad\"},\"hover_glyph\":null,\"muted_glyph\":null,\"nonselection_glyph\":{\"id\":\"1034\",\"type\":\"Quad\"},\"selection_glyph\":null,\"view\":{\"id\":\"1036\",\"type\":\"CDSView\"}},\"id\":\"1035\",\"type\":\"GlyphRenderer\"},{\"attributes\":{},\"id\":\"1011\",\"type\":\"LinearScale\"},{\"attributes\":{},\"id\":\"1041\",\"type\":\"BasicTickFormatter\"},{\"attributes\":{\"formatter\":{\"id\":\"1039\",\"type\":\"BasicTickFormatter\"},\"plot\":{\"id\":\"1003\",\"subtype\":\"Figure\",\"type\":\"Plot\"},\"ticker\":{\"id\":\"1014\",\"type\":\"BasicTicker\"}},\"id\":\"1013\",\"type\":\"LinearAxis\"},{\"attributes\":{},\"id\":\"1042\",\"type\":\"UnionRenderers\"},{\"attributes\":{},\"id\":\"1014\",\"type\":\"BasicTicker\"},{\"attributes\":{},\"id\":\"1043\",\"type\":\"Selection\"},{\"attributes\":{\"plot\":{\"id\":\"1003\",\"subtype\":\"Figure\",\"type\":\"Plot\"},\"ticker\":{\"id\":\"1014\",\"type\":\"BasicTicker\"}},\"id\":\"1017\",\"type\":\"Grid\"},{\"attributes\":{\"formatter\":{\"id\":\"1041\",\"type\":\"BasicTickFormatter\"},\"plot\":{\"id\":\"1003\",\"subtype\":\"Figure\",\"type\":\"Plot\"},\"ticker\":{\"id\":\"1019\",\"type\":\"BasicTicker\"}},\"id\":\"1018\",\"type\":\"LinearAxis\"},{\"attributes\":{},\"id\":\"1019\",\"type\":\"BasicTicker\"},{\"attributes\":{\"dimension\":1,\"plot\":{\"id\":\"1003\",\"subtype\":\"Figure\",\"type\":\"Plot\"},\"ticker\":{\"id\":\"1019\",\"type\":\"BasicTicker\"}},\"id\":\"1022\",\"type\":\"Grid\"}],\"root_ids\":[\"1003\"]},\"title\":\"Bokeh Application\",\"version\":\"1.0.4\"}};\n",
       "  var render_items = [{\"docid\":\"7d7699d0-dd53-4e89-890b-7fea2fec6697\",\"roots\":{\"1003\":\"fd302257-fbc1-4458-bbfa-5902f1cf6074\"}}];\n",
       "  root.Bokeh.embed.embed_items_notebook(docs_json, render_items);\n",
       "\n",
       "  }\n",
       "  if (root.Bokeh !== undefined) {\n",
       "    embed_document(root);\n",
       "  } else {\n",
       "    var attempts = 0;\n",
       "    var timer = setInterval(function(root) {\n",
       "      if (root.Bokeh !== undefined) {\n",
       "        embed_document(root);\n",
       "        clearInterval(timer);\n",
       "      }\n",
       "      attempts++;\n",
       "      if (attempts > 100) {\n",
       "        console.log(\"Bokeh: ERROR: Unable to run BokehJS code because BokehJS library is missing\");\n",
       "        clearInterval(timer);\n",
       "      }\n",
       "    }, 10, root)\n",
       "  }\n",
       "})(window);"
      ],
      "application/vnd.bokehjs_exec.v0+json": ""
     },
     "metadata": {
      "application/vnd.bokehjs_exec.v0+json": {
       "id": "1003"
      }
     },
     "output_type": "display_data"
    }
   ],
   "source": [
    "import math\n",
    "\n",
    "def plot_distribution(vocabulary):\n",
    "\n",
    "    hist, edges = np.histogram(list(map(lambda x:math.log(x[1]),vocabulary.most_common())), density=True, bins=500)\n",
    "\n",
    "    p = figure(tools=\"pan,wheel_zoom,reset,save\",\n",
    "               toolbar_location=\"above\",\n",
    "               title=\"Word distribution accross all emails\")\n",
    "    p.quad(top=hist, bottom=0, left=edges[:-1], right=edges[1:], line_color=\"#555555\", )\n",
    "    show(p)\n",
    "\n",
    "plot_distribution(vocab)\n"
   ]
  },
  {
   "cell_type": "code",
   "execution_count": 10,
   "metadata": {},
   "outputs": [
    {
     "name": "stderr",
     "output_type": "stream",
     "text": [
      "[nltk_data] Downloading package stopwords to C:\\Users\\Varun\n",
      "[nltk_data]     Kurup\\AppData\\Roaming\\nltk_data...\n",
      "[nltk_data]   Package stopwords is already up-to-date!\n"
     ]
    },
    {
     "data": {
      "text/plain": [
       "True"
      ]
     },
     "execution_count": 10,
     "metadata": {},
     "output_type": "execute_result"
    }
   ],
   "source": [
    "import nltk\n",
    "nltk.download('stopwords')"
   ]
  },
  {
   "cell_type": "code",
   "execution_count": 11,
   "metadata": {},
   "outputs": [
    {
     "data": {
      "text/plain": [
       "[('booking', 1247),\n",
       " ('', 493),\n",
       " ('found', 341),\n",
       " ('confirmed', 288),\n",
       " ('record', 143),\n",
       " ('approved', 98),\n",
       " ('find', 97),\n",
       " ('accepted', 96),\n",
       " ('exists', 87),\n",
       " ('sorry', 86),\n",
       " ('rejected', 67),\n",
       " ('ok', 66),\n",
       " ('able', 65),\n",
       " ('confirm', 64),\n",
       " ('reservation', 58),\n",
       " ('present', 50),\n",
       " ('pleased', 49),\n",
       " ('confirmada', 48),\n",
       " ('cannot', 40),\n",
       " ('The', 32)]"
      ]
     },
     "execution_count": 11,
     "metadata": {},
     "output_type": "execute_result"
    }
   ],
   "source": [
    "from nltk.corpus import stopwords\n",
    "stop=stopwords.words('english')\n",
    "vocab_reduced=Counter()\n",
    "for w,c in vocab.items():\n",
    "    if not w in stop:\n",
    "        vocab_reduced[w]=c\n",
    "        \n",
    "vocab_reduced.most_common(20)"
   ]
  },
  {
   "cell_type": "code",
   "execution_count": 12,
   "metadata": {},
   "outputs": [
    {
     "name": "stdout",
     "output_type": "stream",
     "text": [
      "this email man is nice :)\n"
     ]
    }
   ],
   "source": [
    "import re\n",
    "\n",
    "def preprocessor(text):\n",
    "    \"\"\" Return a cleaned version of text\n",
    "    \"\"\"\n",
    "    # Remove HTML markup\n",
    "    text = re.sub('<[^>]*>', '', text)\n",
    "    # Save emoticons for later appending\n",
    "    emoticons = re.findall('(?::|;|=)(?:-)?(?:\\)|\\(|D|P)', text)\n",
    "    # Remove any non-word character and append the emoticons,\n",
    "    # removing the nose character for standarization. Convert to lower case\n",
    "    text = (re.sub('[\\W]+', ' ', text.lower()) + ' ' + ' '.join(emoticons).replace('-', ''))\n",
    "    \n",
    "    return text\n",
    "\n",
    "print(preprocessor('This!! email man :) is <b>nice</b>'))\n",
    "    "
   ]
  },
  {
   "cell_type": "code",
   "execution_count": 13,
   "metadata": {},
   "outputs": [],
   "source": [
    "from nltk.stem import PorterStemmer\n",
    "porter=PorterStemmer()\n",
    "def tokenizer(text):\n",
    "    return text.split()\n",
    "\n",
    "def tokenizer_porter(text):\n",
    "    return [porter.stem(word) for word in text.split()]\n",
    "\n"
   ]
  },
  {
   "cell_type": "code",
   "execution_count": 14,
   "metadata": {},
   "outputs": [],
   "source": [
    "from sklearn.model_selection import train_test_split\n",
    "\n",
    "# split the dataset in train and test\n",
    "X = train.iloc[:,0]\n",
    "y = train.iloc[:,-1]\n",
    "X_train, X_test, y_train, y_test = train_test_split(X, y, test_size=0.3, random_state=0, stratify=y)"
   ]
  },
  {
   "cell_type": "code",
   "execution_count": 15,
   "metadata": {},
   "outputs": [],
   "source": [
    "from sklearn.model_selection import GridSearchCV\n",
    "from sklearn.pipeline import Pipeline\n",
    "from sklearn.linear_model import LogisticRegression\n",
    "from sklearn.feature_extraction.text import TfidfVectorizer\n",
    "\n",
    "tfidf = TfidfVectorizer(strip_accents=None,\n",
    "                        lowercase=False,\n",
    "                        preprocessor=None)\n",
    "\n",
    "param_grid = [{'vect__ngram_range': [(1, 1)],\n",
    "               'vect__stop_words': [stop, None],\n",
    "               'vect__tokenizer': [tokenizer, tokenizer_porter],\n",
    "               'vect__preprocessor': [None, preprocessor],\n",
    "               'clf__penalty': ['l1', 'l2'],\n",
    "               'clf__C': [1.0, 10.0, 100.0]},\n",
    "              {'vect__ngram_range': [(1, 1)],\n",
    "               'vect__stop_words': [stop, None],\n",
    "               'vect__tokenizer': [tokenizer, tokenizer_porter],\n",
    "               'vect__preprocessor': [None, preprocessor],\n",
    "               'vect__use_idf':[False],\n",
    "               'vect__norm':[None],\n",
    "               'clf__penalty': ['l1', 'l2'],\n",
    "               'clf__C': [1.0, 10.0, 100.0]},\n",
    "              ]\n",
    "\n",
    "lr_tfidf = Pipeline([('vect', tfidf),\n",
    "                     ('clf', LogisticRegression(random_state=0))])\n",
    "\n",
    "gs_lr_tfidf = GridSearchCV(lr_tfidf, param_grid,\n",
    "                           scoring='accuracy',\n",
    "                           cv=3,\n",
    "                           verbose=1,\n",
    "                           n_jobs=-1)"
   ]
  },
  {
   "cell_type": "code",
   "execution_count": 16,
   "metadata": {},
   "outputs": [
    {
     "name": "stdout",
     "output_type": "stream",
     "text": [
      "Fitting 3 folds for each of 96 candidates, totalling 288 fits\n"
     ]
    },
    {
     "name": "stderr",
     "output_type": "stream",
     "text": [
      "[Parallel(n_jobs=-1)]: Using backend LokyBackend with 8 concurrent workers.\n",
      "[Parallel(n_jobs=-1)]: Done  34 tasks      | elapsed:   18.5s\n",
      "[Parallel(n_jobs=-1)]: Done 184 tasks      | elapsed:   25.6s\n",
      "[Parallel(n_jobs=-1)]: Done 288 out of 288 | elapsed:   30.3s finished\n",
      "C:\\Users\\Varun Kurup\\Anaconda3\\lib\\site-packages\\sklearn\\linear_model\\logistic.py:433: FutureWarning: Default solver will be changed to 'lbfgs' in 0.22. Specify a solver to silence this warning.\n",
      "  FutureWarning)\n",
      "C:\\Users\\Varun Kurup\\Anaconda3\\lib\\site-packages\\sklearn\\linear_model\\logistic.py:460: FutureWarning: Default multi_class will be changed to 'auto' in 0.22. Specify the multi_class option to silence this warning.\n",
      "  \"this warning.\", FutureWarning)\n"
     ]
    },
    {
     "data": {
      "text/plain": [
       "GridSearchCV(cv=3, error_score='raise-deprecating',\n",
       "       estimator=Pipeline(memory=None,\n",
       "     steps=[('vect', TfidfVectorizer(analyzer='word', binary=False, decode_error='strict',\n",
       "        dtype=<class 'numpy.float64'>, encoding='utf-8', input='content',\n",
       "        lowercase=False, max_df=1.0, max_features=None, min_df=1,\n",
       "        ngram_range=(1, 1), norm='l2', preprocessor=None, smooth_idf=True,...e, penalty='l2', random_state=0, solver='warn',\n",
       "          tol=0.0001, verbose=0, warm_start=False))]),\n",
       "       fit_params=None, iid='warn', n_jobs=-1,\n",
       "       param_grid=[{'vect__ngram_range': [(1, 1)], 'vect__stop_words': [['i', 'me', 'my', 'myself', 'we', 'our', 'ours', 'ourselves', 'you', \"you're\", \"you've\", \"you'll\", \"you'd\", 'your', 'yours', 'yourself', 'yourselves', 'he', 'him', 'his', 'himself', 'she', \"she's\", 'her', 'hers', 'herself', 'it', \"it's...se_idf': [False], 'vect__norm': [None], 'clf__penalty': ['l1', 'l2'], 'clf__C': [1.0, 10.0, 100.0]}],\n",
       "       pre_dispatch='2*n_jobs', refit=True, return_train_score='warn',\n",
       "       scoring='accuracy', verbose=1)"
      ]
     },
     "execution_count": 16,
     "metadata": {},
     "output_type": "execute_result"
    }
   ],
   "source": [
    "gs_lr_tfidf.fit(X_train, y_train)"
   ]
  },
  {
   "cell_type": "code",
   "execution_count": 17,
   "metadata": {},
   "outputs": [
    {
     "name": "stdout",
     "output_type": "stream",
     "text": [
      "Best parameter set: {'clf__C': 100.0, 'clf__penalty': 'l2', 'vect__ngram_range': (1, 1), 'vect__norm': None, 'vect__preprocessor': None, 'vect__stop_words': None, 'vect__tokenizer': <function tokenizer at 0x0000027838BBA6A8>, 'vect__use_idf': False}\n",
      "Best accuracy: 0.965\n"
     ]
    }
   ],
   "source": [
    "print('Best parameter set: ' + str(gs_lr_tfidf.best_params_))\n",
    "print('Best accuracy: %.3f' % gs_lr_tfidf.best_score_)"
   ]
  },
  {
   "cell_type": "code",
   "execution_count": 18,
   "metadata": {},
   "outputs": [
    {
     "name": "stdout",
     "output_type": "stream",
     "text": [
      "Accuracy in test: 0.952\n",
      "              precision    recall  f1-score   support\n",
      "\n",
      "           0       0.97      0.96      0.96       235\n",
      "           1       0.79      0.96      0.87        27\n",
      "           2       0.96      0.94      0.95       221\n",
      "\n",
      "   micro avg       0.95      0.95      0.95       483\n",
      "   macro avg       0.91      0.96      0.93       483\n",
      "weighted avg       0.95      0.95      0.95       483\n",
      "\n"
     ]
    }
   ],
   "source": [
    "clf = gs_lr_tfidf.best_estimator_\n",
    "print('Accuracy in test: %.3f' % clf.score(X_test, y_test))\n",
    "from sklearn.metrics import classification_report\n",
    "preds=clf.predict(X_test)\n",
    "print(classification_report(preds,y_test))"
   ]
  },
  {
   "cell_type": "code",
   "execution_count": 60,
   "metadata": {},
   "outputs": [
    {
     "ename": "NameError",
     "evalue": "name 'pathlib' is not defined",
     "output_type": "error",
     "traceback": [
      "\u001b[1;31m---------------------------------------------------------------------------\u001b[0m",
      "\u001b[1;31mNameError\u001b[0m                                 Traceback (most recent call last)",
      "\u001b[1;32m<ipython-input-60-232a9090f028>\u001b[0m in \u001b[0;36m<module>\u001b[1;34m\u001b[0m\n\u001b[0;32m      1\u001b[0m \u001b[1;32mimport\u001b[0m \u001b[0mpickle\u001b[0m\u001b[1;33m\u001b[0m\u001b[1;33m\u001b[0m\u001b[0m\n\u001b[0;32m      2\u001b[0m \u001b[1;32mimport\u001b[0m \u001b[0mos\u001b[0m\u001b[1;33m\u001b[0m\u001b[1;33m\u001b[0m\u001b[0m\n\u001b[1;32m----> 3\u001b[1;33m \u001b[0mabspath\u001b[0m\u001b[1;33m=\u001b[0m\u001b[0mpathlib\u001b[0m\u001b[1;33m.\u001b[0m\u001b[0mPath\u001b[0m\u001b[1;33m(\u001b[0m\u001b[1;34m'logisticRegression.pkl'\u001b[0m\u001b[1;33m)\u001b[0m\u001b[1;33m\u001b[0m\u001b[1;33m\u001b[0m\u001b[0m\n\u001b[0m\u001b[0;32m      4\u001b[0m \u001b[0mpickle\u001b[0m\u001b[1;33m.\u001b[0m\u001b[0mdump\u001b[0m\u001b[1;33m(\u001b[0m\u001b[0mclf\u001b[0m\u001b[1;33m,\u001b[0m \u001b[0mopen\u001b[0m\u001b[1;33m(\u001b[0m\u001b[0mos\u001b[0m\u001b[1;33m.\u001b[0m\u001b[0mpath\u001b[0m\u001b[1;33m.\u001b[0m\u001b[0mjoin\u001b[0m\u001b[1;33m(\u001b[0m\u001b[1;34m'data'\u001b[0m\u001b[1;33m,\u001b[0m \u001b[0mabspath\u001b[0m\u001b[1;33m)\u001b[0m\u001b[1;33m,\u001b[0m \u001b[1;34m'wb'\u001b[0m\u001b[1;33m)\u001b[0m\u001b[1;33m,\u001b[0m \u001b[0mprotocol\u001b[0m\u001b[1;33m=\u001b[0m\u001b[1;36m4\u001b[0m\u001b[1;33m)\u001b[0m\u001b[1;33m\u001b[0m\u001b[1;33m\u001b[0m\u001b[0m\n",
      "\u001b[1;31mNameError\u001b[0m: name 'pathlib' is not defined"
     ]
    }
   ],
   "source": []
  },
  {
   "cell_type": "code",
   "execution_count": 29,
   "metadata": {},
   "outputs": [
    {
     "name": "stdout",
     "output_type": "stream",
     "text": [
      "not confirmed,0\n",
      "sorry we cannot find booking,0\n",
      "booking is not found,0\n",
      "cancelled booking readded,2\n",
      "booking kept on hold,1\n",
      "booking is in consideration,2\n"
     ]
    }
   ],
   "source": [
    "email_content=[\"not confirmed\",\"sorry we cannot find booking\",\"booking is not found\" ,\"cancelled booking readded\",\"booking kept on hold\",\"booking is in consideration\"]\n",
    "\n",
    "preds=clf.predict(email_content)\n",
    "\n",
    "for i in range(len(email_content)):\n",
    "    print(f'{email_content[i]},{preds[i]}')"
   ]
  },
  {
   "cell_type": "code",
   "execution_count": 203,
   "metadata": {},
   "outputs": [
    {
     "data": {
      "image/png": "[encoded data removed]",
      "text/plain": [
       "<Figure size 432x288 with 1 Axes>"
      ]
     },
     "metadata": {
      "needs_background": "light"
     },
     "output_type": "display_data"
    }
   ],
   "source": [
    "import sklearn.metrics as metrics\n",
    "probs=clf.predict_proba(X_test)\n",
    "preds = probs[:,1]\n",
    "fpr, tpr, threshold = metrics.roc_curve(y_test, preds)\n",
    "roc_auc = metrics.auc(fpr, tpr)\n",
    "import matplotlib.pyplot as plt\n",
    "plt.title('Receiver Operating Characteristic')\n",
    "plt.plot(fpr, tpr, 'b', label = 'AUC = %0.2f' % roc_auc)\n",
    "plt.legend(loc = 'lower right')\n",
    "plt.plot([0, 1], [0, 1],'r--')\n",
    "plt.xlim([0, 1])\n",
    "plt.ylim([0, 1])\n",
    "plt.ylabel('True Positive Rate')\n",
    "plt.xlabel('False Positive Rate')\n",
    "plt.show()"
   ]
  },
  {
   "cell_type": "code",
   "execution_count": null,
   "metadata": {},
   "outputs": [],
   "source": []
  }
 ],
 "metadata": {
  "kernelspec": {
   "display_name": "Python 3",
   "language": "python",
   "name": "python3"
  },
  "language_info": {
   "codemirror_mode": {
    "name": "ipython",
    "version": 3
   },
   "file_extension": ".py",
   "mimetype": "text/x-python",
   "name": "python",
   "nbconvert_exporter": "python",
   "pygments_lexer": "ipython3",
   "version": "3.6.8"
  }
 },
 "nbformat": 4,
 "nbformat_minor": 2
}
